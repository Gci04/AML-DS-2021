{
  "nbformat": 4,
  "nbformat_minor": 0,
  "metadata": {
    "accelerator": "GPU",
    "colab": {
      "name": "AML - Lab2.ipynb",
      "provenance": [],
      "collapsed_sections": [],
      "include_colab_link": true
    },
    "kernelspec": {
      "display_name": "Python 3",
      "language": "python",
      "name": "python3"
    },
    "language_info": {
      "codemirror_mode": {
        "name": "ipython",
        "version": 3
      },
      "file_extension": ".py",
      "mimetype": "text/x-python",
      "name": "python",
      "nbconvert_exporter": "python",
      "pygments_lexer": "ipython3",
      "version": "3.8.5"
    }
  },
  "cells": [
    {
      "cell_type": "markdown",
      "metadata": {
        "id": "view-in-github",
        "colab_type": "text"
      },
      "source": [
        "<a href=\"https://colab.research.google.com/github/Gci04/AML-DS-2021/blob/main/notebooks/AML_Lab1.ipynb\" target=\"_parent\"><img src=\"https://colab.research.google.com/assets/colab-badge.svg\" alt=\"Open In Colab\"/></a>"
      ]
    },
    {
      "cell_type": "markdown",
      "metadata": {
        "id": "DhhBaqkKqjZo"
      },
      "source": [
        "### Week 1: Introduction  \n",
        "```\n",
        "- Advanced Machine Learning, Innopolis University \n",
        "- Professor: Muhammad Fahim \n",
        "- Teaching Assistant: Gcinizwe Dlamini\n",
        "```\n",
        "<hr>\n",
        "\n",
        "\n",
        "```\n",
        "Lab Plan\n",
        "1. Creating a Data Science Repository (i.e Github)\n",
        "2. Deep leaning Frameworks\n",
        "3. About PyTorch and Torchvision installation\n",
        "4. Simple Neural network \n",
        "5. About Tensforflow and tensorboard installation\n",
        "6. Tensorboard example\n",
        "7. Lab Task\n",
        "```\n"
      ]
    },
    {
      "cell_type": "markdown",
      "metadata": {
        "id": "0EnbflB1DUad"
      },
      "source": [
        "## 1. Creating a Data Science Repository\n",
        "\n",
        "Data science code quality is about correctness and reproducibility. Being a Data Scientist doesn't give you permission to write understandable code. \n",
        "\n",
        "### Structure of your code or project layout is very important \n",
        "```Ah thats software engineering stuff ..blah blah blah!```\n",
        "\n",
        "Here are the key points for project sctructure : \n",
        "1. Start with a clean structure\n",
        "2. Make logical structure\n",
        "3. Consistancy\n",
        "4. Information and Knowledge Sharing is key\n",
        "\n",
        "```Remember: You are not working alone!!```\n",
        "\n",
        "### Version Control Systems (Github, GitLab, ... )\n",
        "\n",
        "Porposed simple Structure of project \n",
        "\n",
        "\n",
        "```\n",
        "├── .gitignore               <- .gitignore files in sub folders if needed\n",
        "├── conda_env.yml            <- Conda environment definition \n",
        "├── LICENSE\n",
        "├── README.md                <- The top-level README for developers using this project.\n",
        "├── requirements.txt         <- The requirements file for reproducing the analysis environment, e.g.\n",
        "│                               generated with `pip freeze > requirements.txt`.\n",
        "├── setup.py                 <- Metadata about your project for easy distribution.\n",
        "│\n",
        "├── data                     <- Data Folder\n",
        "├── docs                     <- Documentation\n",
        "│\n",
        "├── notebooks                <- Notebooks for analysis and testing\n",
        "│   ├── eda                  <- Notebooks for EDA\n",
        "│   │   └── example.ipynb    <- Example python notebook\n",
        "│   ├── features             <- Notebooks for generating and analysing features (1 per feature)\n",
        "│   ├── modelling            <- Notebooks for modelling\n",
        "│   └── preprocessing        <- Notebooks for Preprocessing \n",
        "├── scripts                  <- Standalone scripts\n",
        "│   ├── train.py           <- Example sctipt\n",
        "│   ├── test.py              <- Example sctipt\n",
        "│   └── example.py           <- Example sctipt\n",
        "│\n",
        "├── src                      <- Code for use in this project.\n",
        "│\n",
        "└── tests                    <- Test cases\n",
        "    ├── test_notebook.py     <- Example testing that Jupyter notebooks run without errors\n",
        "    └── pipeline             <- pipeline tests\n",
        "\n",
        "```\n",
        "\n",
        "In this course we will use gitHub\n",
        "\n",
        "### ***Git Actions***"
      ]
    },
    {
      "cell_type": "markdown",
      "metadata": {
        "id": "45oTeXZnDUae"
      },
      "source": [
        "### DEMO on Github"
      ]
    },
    {
      "cell_type": "markdown",
      "metadata": {
        "id": "wN4MZgUgDUaf"
      },
      "source": [
        "## 2. Deep Learning Frameworks \n",
        "\n",
        "The several deep learning frameworks designed & backed by big tech, universities, and researchers.\n",
        "Here is the example of popular : \n",
        "\n",
        "1. Tensorflow\n",
        "1. Keras\n",
        "1. PyTorch\n",
        "1. Apache MXNet\n",
        "1. Microsoft Cognitive Toolkit\n",
        "1. Caffe\n",
        "\n",
        "### In this course we will focus on PyTorch and Tensorflow"
      ]
    },
    {
      "cell_type": "markdown",
      "metadata": {
        "id": "PlJnEkkIDUaf"
      },
      "source": [
        "## 3. About PyTorch and Torchvision installation\n",
        "\n",
        "PyTorch a deep learning framework was released by Facebook in 2017 : <br> Installation in python with pip\n",
        "\n",
        "\n",
        "**Main componets :**\n",
        "\n",
        "1. Tensor - Similar to NumPy’s ndarrays, except that tensors can run on accelerators (i.e GPU).\n",
        "2. Datasets & DataLoaders\n",
        "3. Neural Network\n",
        "4. Model Training (back propagation)\n",
        "5. Optimization\n",
        "6. Model Saving\n"
      ]
    },
    {
      "cell_type": "code",
      "metadata": {
        "id": "av5Dn_XQDUag"
      },
      "source": [
        "# !pip3 install torch #Installation \n",
        "import torch "
      ],
      "execution_count": 1,
      "outputs": []
    },
    {
      "cell_type": "markdown",
      "metadata": {
        "id": "Qc5aOxD0DUag"
      },
      "source": [
        "### 3.1 [Tensors](https://pytorch.org/tutorials/beginner/basics/tensorqs_tutorial.html)\n",
        "\n",
        "* Can be created from normal list, random or constant values, numpy array and from another tensor\n",
        "* Supports Numpy operations most (tensor.multiply(), ..)\n",
        "* Tensor method with underscore (``_``) performs operations in place (i.e tensor.add_(2))\n",
        "* Can be converted to numpy "
      ]
    },
    {
      "cell_type": "code",
      "metadata": {
        "id": "8Sz3KrDWDUah",
        "outputId": "47742943-f301-4475-a6ec-044a0f2caaac",
        "colab": {
          "base_uri": "https://localhost:8080/"
        }
      },
      "source": [
        "#initialization \n",
        "data = [[5, 6, 1],[3, 4, 5],[4, 3, 6]]\n",
        "tensor_x = torch.tensor(data) # by default in CPU\n",
        "\n",
        "print(f\"Shape of tensor: {tensor_x.shape}\")\n",
        "print(f\"Datatype of tensor: {tensor_x.dtype}\")\n",
        "print(f\"tensor device : {tensor_x.device}\")"
      ],
      "execution_count": 2,
      "outputs": [
        {
          "output_type": "stream",
          "text": [
            "Shape of tensor: torch.Size([3, 3])\n",
            "Datatype of tensor: torch.int64\n",
            "tensor device : cpu\n"
          ],
          "name": "stdout"
        }
      ]
    },
    {
      "cell_type": "code",
      "metadata": {
        "id": "hQk5Hi9UDUah",
        "outputId": "26545b97-d441-4084-ef71-3cc0877a5a01",
        "colab": {
          "base_uri": "https://localhost:8080/"
        }
      },
      "source": [
        "import numpy as np\n",
        "\n",
        "tensor_x2 = torch.from_numpy(np.ones((5,5)))\n",
        "print(tensor_x2.add(5))\n",
        "print(tensor_x2)"
      ],
      "execution_count": 3,
      "outputs": [
        {
          "output_type": "stream",
          "text": [
            "tensor([[6., 6., 6., 6., 6.],\n",
            "        [6., 6., 6., 6., 6.],\n",
            "        [6., 6., 6., 6., 6.],\n",
            "        [6., 6., 6., 6., 6.],\n",
            "        [6., 6., 6., 6., 6.]], dtype=torch.float64)\n",
            "tensor([[1., 1., 1., 1., 1.],\n",
            "        [1., 1., 1., 1., 1.],\n",
            "        [1., 1., 1., 1., 1.],\n",
            "        [1., 1., 1., 1., 1.],\n",
            "        [1., 1., 1., 1., 1.]], dtype=torch.float64)\n"
          ],
          "name": "stdout"
        }
      ]
    },
    {
      "cell_type": "code",
      "metadata": {
        "id": "UD780l6sDUah",
        "outputId": "9c55d72c-e6b6-47c4-8406-e2d8fecb4f4a",
        "colab": {
          "base_uri": "https://localhost:8080/"
        }
      },
      "source": [
        "tensor_x2.add_(7)\n",
        "print(tensor_x2)"
      ],
      "execution_count": 4,
      "outputs": [
        {
          "output_type": "stream",
          "text": [
            "tensor([[8., 8., 8., 8., 8.],\n",
            "        [8., 8., 8., 8., 8.],\n",
            "        [8., 8., 8., 8., 8.],\n",
            "        [8., 8., 8., 8., 8.],\n",
            "        [8., 8., 8., 8., 8.]], dtype=torch.float64)\n"
          ],
          "name": "stdout"
        }
      ]
    },
    {
      "cell_type": "markdown",
      "metadata": {
        "id": "rv2aeLJBDUai"
      },
      "source": [
        "### 3.2 [Datasets & DataLoaders](https://pytorch.org/tutorials/beginner/basics/data_tutorial.html)\n",
        "\n",
        "* For Smooth data loading and preprocessing "
      ]
    },
    {
      "cell_type": "markdown",
      "metadata": {
        "id": "PNLOnkZtDUai"
      },
      "source": [
        "### 3.3 Neural Network\n",
        "\n",
        "* ```torch.nn``` provides all the building blocks to build own neural network"
      ]
    },
    {
      "cell_type": "code",
      "metadata": {
        "id": "HHmkusw2DUai"
      },
      "source": [
        "from torch import nn\n",
        "device = 'cuda' if torch.cuda.is_available() else 'cpu' # get device for training model \n",
        "\n",
        "class NeuralNetwork(nn.Module):\n",
        "    def __init__(self,input_dim=50,output_dim=1):\n",
        "        super(NeuralNetwork, self).__init__()\n",
        "        self.layer1 = nn.Linear(input_dim, 50)\n",
        "        self.layer2 = nn.Linear(50, 25)\n",
        "        self.output = nn.Linear(25, output_dim)\n",
        "\n",
        "    def forward(self, x):\n",
        "        x = torch.tanh(self.layer1(x)) \n",
        "        x = torch.tanh(self.layer2(x))\n",
        "        x = torch.sigmoid(self.output(x))\n",
        "        return x"
      ],
      "execution_count": 5,
      "outputs": []
    },
    {
      "cell_type": "code",
      "metadata": {
        "id": "07TxV1iQDUaj",
        "outputId": "e23e657a-ae21-45e5-c270-94ad5d087dcb",
        "colab": {
          "base_uri": "https://localhost:8080/"
        }
      },
      "source": [
        "model = NeuralNetwork().to(device)\n",
        "print(model)\n",
        "\n",
        "X = torch.rand(1, 50, device=device)\n",
        "print(f\"Neural Network output : {model(X)}\")"
      ],
      "execution_count": 6,
      "outputs": [
        {
          "output_type": "stream",
          "text": [
            "NeuralNetwork(\n",
            "  (layer1): Linear(in_features=50, out_features=50, bias=True)\n",
            "  (layer2): Linear(in_features=50, out_features=25, bias=True)\n",
            "  (output): Linear(in_features=25, out_features=1, bias=True)\n",
            ")\n",
            "Neural Network output : tensor([[0.4958]], device='cuda:0', grad_fn=<SigmoidBackward>)\n"
          ],
          "name": "stdout"
        }
      ]
    },
    {
      "cell_type": "code",
      "metadata": {
        "id": "sT6yLYolDUaj",
        "outputId": "acf0e0ca-d049-4f53-8770-1658f9bfd3da",
        "colab": {
          "base_uri": "https://localhost:8080/"
        }
      },
      "source": [
        "#print the model parameters\n",
        "for name, param in model.named_parameters():\n",
        "    print(f\"Layer: {name} | Size: {param.size()} | Values : {param[:2]} \\n\")"
      ],
      "execution_count": 7,
      "outputs": [
        {
          "output_type": "stream",
          "text": [
            "Layer: layer1.weight | Size: torch.Size([50, 50]) | Values : tensor([[ 0.0174,  0.0172,  0.1399, -0.0488,  0.1109,  0.0186,  0.0863,  0.0937,\n",
            "         -0.0462, -0.1145, -0.1261,  0.0374,  0.0762,  0.0576,  0.1312,  0.0706,\n",
            "         -0.0480,  0.0749, -0.0446,  0.0737, -0.0049,  0.1136, -0.1226,  0.0338,\n",
            "         -0.0750,  0.0491,  0.0274, -0.0235, -0.0896,  0.1356, -0.1012, -0.0484,\n",
            "          0.0211,  0.0696,  0.0554, -0.0801,  0.0242,  0.0830,  0.0153, -0.1392,\n",
            "          0.1359,  0.1222,  0.0125,  0.1011, -0.0561,  0.0300, -0.0077, -0.0418,\n",
            "          0.0958,  0.0370],\n",
            "        [ 0.0132, -0.0178, -0.1153, -0.1064,  0.0727, -0.0087,  0.0211, -0.1334,\n",
            "         -0.0087,  0.1287,  0.0430, -0.0505, -0.0176,  0.1134,  0.1075,  0.0662,\n",
            "         -0.0055,  0.0428, -0.0273, -0.0594, -0.0714,  0.0818, -0.0009,  0.1136,\n",
            "         -0.0270,  0.1028,  0.1210,  0.0597, -0.0465, -0.1389, -0.0847, -0.1128,\n",
            "          0.0451,  0.0487,  0.0289, -0.1082,  0.0514, -0.0487, -0.0422, -0.1054,\n",
            "         -0.0584,  0.0521, -0.0945,  0.0295,  0.1011, -0.0562, -0.0738,  0.0118,\n",
            "         -0.0334,  0.1043]], device='cuda:0', grad_fn=<SliceBackward>) \n",
            "\n",
            "Layer: layer1.bias | Size: torch.Size([50]) | Values : tensor([ 0.0731, -0.0232], device='cuda:0', grad_fn=<SliceBackward>) \n",
            "\n",
            "Layer: layer2.weight | Size: torch.Size([25, 50]) | Values : tensor([[ 0.1058, -0.1139,  0.0636,  0.0300, -0.0985, -0.0651,  0.0075,  0.0973,\n",
            "          0.0662, -0.1161,  0.0855, -0.0733,  0.0076, -0.0459,  0.0338, -0.1271,\n",
            "          0.0076, -0.0419, -0.0063,  0.0264,  0.0022, -0.1108, -0.0981,  0.0509,\n",
            "          0.1298,  0.1345, -0.1195, -0.1307,  0.1273,  0.1070,  0.0302,  0.0183,\n",
            "         -0.0388, -0.1350,  0.0897, -0.0855, -0.0876,  0.0813, -0.0452, -0.0032,\n",
            "          0.0281,  0.0595,  0.1177, -0.1282,  0.1100,  0.0002, -0.0304,  0.0741,\n",
            "          0.1170,  0.0114],\n",
            "        [-0.0411, -0.0975, -0.0775, -0.0871,  0.0842, -0.0829, -0.0674,  0.0674,\n",
            "         -0.0582,  0.0127,  0.0881, -0.0083,  0.0195, -0.0305, -0.0059, -0.1017,\n",
            "         -0.0525,  0.1127,  0.0536,  0.0556, -0.0641, -0.0110,  0.0538,  0.0438,\n",
            "         -0.0086,  0.1245, -0.0273,  0.0846, -0.0754,  0.0193, -0.0584, -0.0984,\n",
            "         -0.1270, -0.0541,  0.0628,  0.0179, -0.0516, -0.0683,  0.0342, -0.0344,\n",
            "         -0.1383, -0.0172, -0.0905, -0.0211,  0.0899, -0.0218,  0.0282,  0.1066,\n",
            "         -0.0228,  0.1175]], device='cuda:0', grad_fn=<SliceBackward>) \n",
            "\n",
            "Layer: layer2.bias | Size: torch.Size([25]) | Values : tensor([-0.0590, -0.1167], device='cuda:0', grad_fn=<SliceBackward>) \n",
            "\n",
            "Layer: output.weight | Size: torch.Size([1, 25]) | Values : tensor([[-0.1978,  0.0934, -0.0332,  0.1419,  0.0030,  0.0807,  0.1450,  0.0963,\n",
            "         -0.1624, -0.0876, -0.1221, -0.0619,  0.1783,  0.1275, -0.1721,  0.0622,\n",
            "         -0.1363, -0.1404, -0.1336,  0.1083, -0.1199, -0.1762, -0.1366, -0.1530,\n",
            "          0.0542]], device='cuda:0', grad_fn=<SliceBackward>) \n",
            "\n",
            "Layer: output.bias | Size: torch.Size([1]) | Values : tensor([0.1410], device='cuda:0', grad_fn=<SliceBackward>) \n",
            "\n"
          ],
          "name": "stdout"
        }
      ]
    },
    {
      "cell_type": "code",
      "metadata": {
        "id": "5TjBfES_Dphk",
        "outputId": "39f6a5ed-f410-4146-8a46-0e03b44d552c",
        "colab": {
          "base_uri": "https://localhost:8080/",
          "height": 35
        }
      },
      "source": [
        "device"
      ],
      "execution_count": 8,
      "outputs": [
        {
          "output_type": "execute_result",
          "data": {
            "application/vnd.google.colaboratory.intrinsic+json": {
              "type": "string"
            },
            "text/plain": [
              "'cuda'"
            ]
          },
          "metadata": {
            "tags": []
          },
          "execution_count": 8
        }
      ]
    },
    {
      "cell_type": "markdown",
      "metadata": {
        "id": "GP42_XL4DUaj"
      },
      "source": [
        "### Neural Network Training\n",
        "\n",
        "* What are the parameters for training a neural network? \n",
        "* What are the steps for training a neural network? "
      ]
    },
    {
      "cell_type": "markdown",
      "metadata": {
        "id": "uoljLoWPDUak"
      },
      "source": [
        "### Dataset loading and Preprocessing "
      ]
    },
    {
      "cell_type": "code",
      "metadata": {
        "id": "XlL4MZK_DUak"
      },
      "source": [
        "from torch.utils.data import DataLoader, TensorDataset\n",
        "train_x = torch.from_numpy(np.random.normal(1,1,(640,50))).float()\n",
        "train_y = torch.from_numpy(np.random.randint(0,2,(640,1))).float()\n",
        "\n",
        "test_x = torch.from_numpy(np.random.normal(1,1,(192,50))).float()\n",
        "test_y = torch.from_numpy(np.random.randint(0,2,(192,1))).float()\n",
        "\n",
        "train_DataLoader = DataLoader(TensorDataset(train_x,train_y), batch_size=64)\n",
        "test_DataLoader = DataLoader(TensorDataset(test_x,test_y))"
      ],
      "execution_count": 9,
      "outputs": []
    },
    {
      "cell_type": "markdown",
      "metadata": {
        "id": "G-cjqNoPDUal"
      },
      "source": [
        "### The optimizer and Loss function \n",
        "\n",
        "* ```torch.optim``` module contains different optimizers available in PyTorch such as SGD, ADAM and RMSProp\n",
        "\n",
        "**Inside the training loop**\n",
        "* Reset the gradients of model parameters ```optimizer.zero_grad()```\n",
        "* After foward pass, calculate loss using specified loss function and then backpropagate the loss ```loss.backwards()```\n",
        "* Adjust the weights of the Network ```optimizer.step()```\n",
        "\n",
        "**What Loss function to choose ?**\n",
        "* For Regression\n",
        "* For Classification"
      ]
    },
    {
      "cell_type": "code",
      "metadata": {
        "id": "snzkl5JnDUal"
      },
      "source": [
        "import torch.optim as optim\n",
        "\n",
        "# Alternatively, you can use a Sequential model\n",
        "# model = nn.Sequential(...).to(device)\n",
        "\n",
        "model = NeuralNetwork().float().to(device)\n",
        "\n",
        "lr = 1e-1\n",
        "n_epochs = 100\n",
        "\n",
        "#nn.MSELoss(reduction='mean'), torch.nn.CrossEntropyLoss()\n",
        "\n",
        "loss_fn = nn.BCELoss()\n",
        "optimizer = optim.SGD(model.parameters(), lr=lr)\n",
        "\n",
        "\n",
        "def make_train_step(model, loss_fn, optimizer):\n",
        "    def train_step(x,y):\n",
        "        model.train() #set model to training mode\n",
        "        ypred = model(x.to(device)) #Foward pass\n",
        "        loss = loss_fn(ypred.to(device),y.to(device)) # Calcutation of loss\n",
        "        loss.backward() \n",
        "\n",
        "        optimizer.step()\n",
        "        optimizer.zero_grad()\n",
        "\n",
        "        return loss.item()\n",
        "\n",
        "    return train_step\n",
        "\n",
        "\n",
        "train_step = make_train_step(model, loss_fn, optimizer)\n",
        "losses = []"
      ],
      "execution_count": 13,
      "outputs": []
    },
    {
      "cell_type": "code",
      "metadata": {
        "id": "Jsh8vXplDUam"
      },
      "source": [
        "# Training loop\n",
        "for epoch in range(n_epochs):\n",
        "    # Performs one train step and returns the corresponding loss\n",
        "    for X,y in train_DataLoader:\n",
        "        loss = train_step(X, y.float())\n",
        "        losses.append(loss)\n",
        "        "
      ],
      "execution_count": 14,
      "outputs": []
    },
    {
      "cell_type": "markdown",
      "metadata": {
        "id": "V-o140GHDUam"
      },
      "source": [
        "### How to monitor the Neural network training/optimization progress? "
      ]
    },
    {
      "cell_type": "markdown",
      "metadata": {
        "id": "2Nuit5qwDUan"
      },
      "source": [
        "### About Tensforflow, tensorboard installation and example\n",
        "\n",
        "* Tracking and visualizing metrics (Accuracy, loss, ...)\n",
        "* To install tensorboard : ```pip install torch torchvision```"
      ]
    },
    {
      "cell_type": "code",
      "metadata": {
        "id": "pgy5sI4fDUan"
      },
      "source": [
        "from torch.utils.tensorboard import SummaryWriter\n",
        "writer = SummaryWriter()"
      ],
      "execution_count": null,
      "outputs": []
    },
    {
      "cell_type": "code",
      "metadata": {
        "id": "eKpPqF5KDUan"
      },
      "source": [
        "# Training loop\n",
        "for epoch in range(n_epochs):\n",
        "    l = 0.0\n",
        "    size = len(train_DataLoader.dataset)\n",
        "    # Performs one train step and returns the corresponding loss\n",
        "    for X,y in train_DataLoader:\n",
        "        loss = train_step(X, y.float())\n",
        "        l += (loss/size)\n",
        "        losses.append(loss)\n",
        "    writer.add_scalar(\"Loss/train\", loss, epoch)\n",
        "    for tag, parm in model.named_parameters():\n",
        "        writer.add_histogram(tag, parm.grad.data.cpu().numpy(), epoch)\n",
        "\n",
        "dummy_input = torch.autograd.Variable(torch.rand(1, 50))\n",
        "writer.add_graph(model=model, input_to_model=(dummy_input, ))\n",
        "writer.close()"
      ],
      "execution_count": null,
      "outputs": []
    },
    {
      "cell_type": "code",
      "metadata": {
        "id": "AHgO50FfDUao"
      },
      "source": [
        "!ls"
      ],
      "execution_count": null,
      "outputs": []
    },
    {
      "cell_type": "markdown",
      "metadata": {
        "id": "4eP1CRuMDUap"
      },
      "source": [
        "## How to save model for later use? "
      ]
    },
    {
      "cell_type": "markdown",
      "metadata": {
        "id": "kpDjC3E6DUap"
      },
      "source": [
        "## How about Tensorflow or Keras\n",
        "\n",
        "* Tensorflow 2.0 stable version was released in October 2019 \n",
        "* Tensorflow 2.0 looks more like Keras\n",
        "* Represent computation as a directed acyclic graph often called Computation Graph -- same as PyTorch\n",
        "* Tensorflow has static computation graph while PyTorch has Dynamic computational graph (One of major differences)\n",
        "* **Now its difficult to separate the two since they both support static and dynamic**\n",
        "\n",
        "There are 3 ways (That I know) to create a and train neural network in tensorflow 2.0 <br>\n",
        "Let's see how a neural net looks like "
      ]
    },
    {
      "cell_type": "code",
      "metadata": {
        "id": "W_as0gtWDUap"
      },
      "source": [
        "%load_ext tensorboard"
      ],
      "execution_count": null,
      "outputs": []
    },
    {
      "cell_type": "code",
      "metadata": {
        "id": "9nTV5TBQDUaq"
      },
      "source": [
        "import tensorflow as tf\n",
        "import numpy as np\n",
        "\n",
        "## Data\n",
        "SIZE = 2000\n",
        "EPOCHS = 10\n",
        "x1 = np.random.normal(0, 10, SIZE)\n",
        "x2 = np.random.normal(3, 5, SIZE)\n",
        "x = np.dstack((x1, x2))[0]\n",
        "y = (3 * np.sqrt(np.abs(x1)+0.1) + np.power(x2,3)).reshape(-1,1)\n",
        "\n",
        "train_dataset = tf.data.Dataset.from_tensor_slices((x, y)).shuffle(100).batch(50)"
      ],
      "execution_count": null,
      "outputs": []
    },
    {
      "cell_type": "markdown",
      "metadata": {
        "id": "Aiw8wxm6DUaq"
      },
      "source": [
        "### Option 1"
      ]
    },
    {
      "cell_type": "code",
      "metadata": {
        "id": "5yBKMdq0DUaq"
      },
      "source": [
        "model1 = tf.keras.Sequential()\n",
        "model1.add(tf.keras.layers.Dense(64, input_shape=(2,) , activation='tanh'))\n",
        "model1.add(tf.keras.layers.Dense(128, activation = 'relu'))\n",
        "model1.add(tf.keras.layers.Dense(1))\n",
        "model1.compile(optimizer=tf.keras.optimizers.Adam(0.001), loss=tf.keras.losses.MSE)\n",
        "History = model1.fit(train_dataset, epochs=100)"
      ],
      "execution_count": null,
      "outputs": []
    },
    {
      "cell_type": "markdown",
      "metadata": {
        "id": "3LzPzsjmDUar"
      },
      "source": [
        "### Option 2 \n",
        "\n",
        "* tf.keras.Model"
      ]
    },
    {
      "cell_type": "code",
      "metadata": {
        "id": "dd4Vi2AkDUar"
      },
      "source": [
        "class Model2(tf.keras.Model):\n",
        "    def __init__(self):\n",
        "        super(Model2, self).__init__()\n",
        "        self.hidden1 = tf.keras.layers.Dense(64, input_shape=(2,) ,activation='sigmoid')\n",
        "        self.hidden2 = tf.keras.layers.Dense(128, activation='relu')\n",
        "        self.out = tf.keras.layers.Dense(2)\n",
        "        self.compile(optimizer=tf.keras.optimizers.Adam(0.001), loss=tf.keras.losses.MSE)\n",
        "\n",
        "    def call(self, inputs):\n",
        "        x = self.hidden1(inputs)\n",
        "        x = self.hidden2(x)\n",
        "        x = self.out(x)\n",
        "        return x\n",
        "\n",
        "model2 = Model2()\n",
        "model2.fit(train_dataset, epochs=20)\n"
      ],
      "execution_count": null,
      "outputs": []
    },
    {
      "cell_type": "markdown",
      "metadata": {
        "id": "FCdriRWbDUar"
      },
      "source": [
        "## Option 3\n",
        "\n",
        "* `tf.GradientTape()` (Mostly used in training of GANs)"
      ]
    },
    {
      "cell_type": "code",
      "metadata": {
        "id": "dZRRKxCQDUas"
      },
      "source": [
        "model3 = tf.keras.Sequential()\n",
        "model3.add(tf.keras.layers.Dense(64, input_shape=(2,) , activation='sigmoid'))\n",
        "model3.add(tf.keras.layers.Dense(128, activation = 'relu'))\n",
        "model3.add(tf.keras.layers.Dense(1))\n",
        "# model3.build()\n",
        "opt =tf.keras.optimizers.Adam(0.001)\n",
        "mse =tf.keras.losses.MSE\n",
        "batch = 100\n",
        "for i in range(10):\n",
        "    for X_sample, y_sample in train_dataset:\n",
        "        with tf.GradientTape() as tape:\n",
        "            y_pre = model3(X_sample)\n",
        "            loss = mse(y_sample, y_pre)\n",
        "        grads = tape.gradient(loss, model3.trainable_variables)\t\n",
        "        processed_grads = [g for g in grads]\n",
        "        grads_and_vars = zip(processed_grads, model3.trainable_variables)\n",
        "        opt.apply_gradients(grads_and_vars)\n",
        "    print ('Model3: ', i, ' : ', np.mean(loss.numpy()))"
      ],
      "execution_count": null,
      "outputs": []
    },
    {
      "cell_type": "code",
      "metadata": {
        "id": "in4pWUJ_DUas"
      },
      "source": [
        "#Print the model \n",
        "model3.summary()"
      ],
      "execution_count": null,
      "outputs": []
    },
    {
      "cell_type": "code",
      "metadata": {
        "id": "o3spAS7UDUas"
      },
      "source": [
        "import os, datetime\n",
        "\n",
        "model11 = tf.keras.Sequential()\n",
        "model11.add(tf.keras.layers.Dense(64, input_shape=(2,) , activation='tanh'))\n",
        "model11.add(tf.keras.layers.Dense(128, activation = 'relu'))\n",
        "model11.add(tf.keras.layers.Dense(1))\n",
        "model11.compile(optimizer=tf.keras.optimizers.Adam(0.001), loss=tf.keras.losses.MSE)\n",
        "\n",
        "\n",
        "x1_val = np.random.normal(0, 10, (30,1))\n",
        "x2_val = np.random.normal(3, 5, (30,1))\n",
        "x_val = np.hstack((x1_val, x2_val))\n",
        "y_val = (3 * np.sqrt(np.abs(x1_val)+0.1) + np.power(x2_val,3))\n",
        "val_dataset = tf.data.Dataset.from_tensor_slices((x_val, y_val))\n",
        "\n",
        "logdir = os.path.join(\"logs\", datetime.datetime.now().strftime(\"%Y%m%d-%H%M%S\"))\n",
        "tensorboard_callback = tf.keras.callbacks.TensorBoard(logdir, histogram_freq=1)\n",
        "\n",
        "model11.fit(train_dataset, epochs=5, validation_data=(x_val,y_val), callbacks=[tensorboard_callback])"
      ],
      "execution_count": null,
      "outputs": []
    },
    {
      "cell_type": "code",
      "metadata": {
        "id": "9EI8PeZEDUat"
      },
      "source": [
        "model11.summary()"
      ],
      "execution_count": null,
      "outputs": []
    },
    {
      "cell_type": "markdown",
      "metadata": {
        "id": "wps7grXdDUat"
      },
      "source": [
        "## [Tensorboard example](https://colab.research.google.com/drive/1_HxMqsqEAHAo2vZ9aER7jCbtOlJJ4fOf?usp=sharing)"
      ]
    },
    {
      "cell_type": "markdown",
      "metadata": {
        "id": "WA2QOByaDUat"
      },
      "source": [
        "### Lab task \n",
        "\n",
        "\n",
        "```\n",
        "Lab Plan\n",
        "1. Create a GitHub or GitLab private repo (add Gci04 as contributor)\n",
        "2. Use the example given in lab and modify it to regression task\n",
        "3. Create tests (minimum 2 in tests folder)\n",
        "4. Use Tensorboard\n",
        "5. Modify the test script for your model and git actions script if necessary\n",
        "\n",
        "```\n"
      ]
    },
    {
      "cell_type": "code",
      "metadata": {
        "id": "Bhyf9JxBDUat"
      },
      "source": [
        ""
      ],
      "execution_count": null,
      "outputs": []
    }
  ]
}