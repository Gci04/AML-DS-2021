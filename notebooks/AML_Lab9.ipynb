{
  "nbformat": 4,
  "nbformat_minor": 0,
  "metadata": {
    "accelerator": "GPU",
    "colab": {
      "name": "Copy of AML_Lab9.ipynb",
      "provenance": [],
      "collapsed_sections": [],
      "include_colab_link": true
    },
    "kernelspec": {
      "display_name": "Python 3",
      "language": "python",
      "name": "python3"
    },
    "language_info": {
      "codemirror_mode": {
        "name": "ipython",
        "version": 3
      },
      "file_extension": ".py",
      "mimetype": "text/x-python",
      "name": "python",
      "nbconvert_exporter": "python",
      "pygments_lexer": "ipython3",
      "version": "3.8.5"
    },
    "widgets": {
      "application/vnd.jupyter.widget-state+json": {
        "2fb613ac638348fbbb798bb9e5792f3e": {
          "model_module": "@jupyter-widgets/controls",
          "model_name": "HBoxModel",
          "state": {
            "_view_name": "HBoxView",
            "_dom_classes": [],
            "_model_name": "HBoxModel",
            "_view_module": "@jupyter-widgets/controls",
            "_model_module_version": "1.5.0",
            "_view_count": null,
            "_view_module_version": "1.5.0",
            "box_style": "",
            "layout": "IPY_MODEL_71243aee246e4a7aa731c4bebaa7e355",
            "_model_module": "@jupyter-widgets/controls",
            "children": [
              "IPY_MODEL_24716e50aa15411d8575c0dcfa00c644",
              "IPY_MODEL_4e29f8a8d07e475bbc12bc0d45306d75"
            ]
          }
        },
        "71243aee246e4a7aa731c4bebaa7e355": {
          "model_module": "@jupyter-widgets/base",
          "model_name": "LayoutModel",
          "state": {
            "_view_name": "LayoutView",
            "grid_template_rows": null,
            "right": null,
            "justify_content": null,
            "_view_module": "@jupyter-widgets/base",
            "overflow": null,
            "_model_module_version": "1.2.0",
            "_view_count": null,
            "flex_flow": null,
            "width": null,
            "min_width": null,
            "border": null,
            "align_items": null,
            "bottom": null,
            "_model_module": "@jupyter-widgets/base",
            "top": null,
            "grid_column": null,
            "overflow_y": null,
            "overflow_x": null,
            "grid_auto_flow": null,
            "grid_area": null,
            "grid_template_columns": null,
            "flex": null,
            "_model_name": "LayoutModel",
            "justify_items": null,
            "grid_row": null,
            "max_height": null,
            "align_content": null,
            "visibility": null,
            "align_self": null,
            "height": null,
            "min_height": null,
            "padding": null,
            "grid_auto_rows": null,
            "grid_gap": null,
            "max_width": null,
            "order": null,
            "_view_module_version": "1.2.0",
            "grid_template_areas": null,
            "object_position": null,
            "object_fit": null,
            "grid_auto_columns": null,
            "margin": null,
            "display": null,
            "left": null
          }
        },
        "24716e50aa15411d8575c0dcfa00c644": {
          "model_module": "@jupyter-widgets/controls",
          "model_name": "FloatProgressModel",
          "state": {
            "_view_name": "ProgressView",
            "style": "IPY_MODEL_4fd19f85148d4800983a806c87473bd1",
            "_dom_classes": [],
            "description": "",
            "_model_name": "FloatProgressModel",
            "bar_style": "success",
            "max": 182040794,
            "_view_module": "@jupyter-widgets/controls",
            "_model_module_version": "1.5.0",
            "value": 182040794,
            "_view_count": null,
            "_view_module_version": "1.5.0",
            "orientation": "horizontal",
            "min": 0,
            "description_tooltip": null,
            "_model_module": "@jupyter-widgets/controls",
            "layout": "IPY_MODEL_a0aef78dbd7742e6a9de9dd15f75c539"
          }
        },
        "4e29f8a8d07e475bbc12bc0d45306d75": {
          "model_module": "@jupyter-widgets/controls",
          "model_name": "HTMLModel",
          "state": {
            "_view_name": "HTMLView",
            "style": "IPY_MODEL_433c75419f84408fa38b94476d8f4d0c",
            "_dom_classes": [],
            "description": "",
            "_model_name": "HTMLModel",
            "placeholder": "​",
            "_view_module": "@jupyter-widgets/controls",
            "_model_module_version": "1.5.0",
            "value": " 182041600/? [00:18&lt;00:00, 10024455.59it/s]",
            "_view_count": null,
            "_view_module_version": "1.5.0",
            "description_tooltip": null,
            "_model_module": "@jupyter-widgets/controls",
            "layout": "IPY_MODEL_a0c624aef2d44749896ab7054ac8de0b"
          }
        },
        "4fd19f85148d4800983a806c87473bd1": {
          "model_module": "@jupyter-widgets/controls",
          "model_name": "ProgressStyleModel",
          "state": {
            "_view_name": "StyleView",
            "_model_name": "ProgressStyleModel",
            "description_width": "initial",
            "_view_module": "@jupyter-widgets/base",
            "_model_module_version": "1.5.0",
            "_view_count": null,
            "_view_module_version": "1.2.0",
            "bar_color": null,
            "_model_module": "@jupyter-widgets/controls"
          }
        },
        "a0aef78dbd7742e6a9de9dd15f75c539": {
          "model_module": "@jupyter-widgets/base",
          "model_name": "LayoutModel",
          "state": {
            "_view_name": "LayoutView",
            "grid_template_rows": null,
            "right": null,
            "justify_content": null,
            "_view_module": "@jupyter-widgets/base",
            "overflow": null,
            "_model_module_version": "1.2.0",
            "_view_count": null,
            "flex_flow": null,
            "width": null,
            "min_width": null,
            "border": null,
            "align_items": null,
            "bottom": null,
            "_model_module": "@jupyter-widgets/base",
            "top": null,
            "grid_column": null,
            "overflow_y": null,
            "overflow_x": null,
            "grid_auto_flow": null,
            "grid_area": null,
            "grid_template_columns": null,
            "flex": null,
            "_model_name": "LayoutModel",
            "justify_items": null,
            "grid_row": null,
            "max_height": null,
            "align_content": null,
            "visibility": null,
            "align_self": null,
            "height": null,
            "min_height": null,
            "padding": null,
            "grid_auto_rows": null,
            "grid_gap": null,
            "max_width": null,
            "order": null,
            "_view_module_version": "1.2.0",
            "grid_template_areas": null,
            "object_position": null,
            "object_fit": null,
            "grid_auto_columns": null,
            "margin": null,
            "display": null,
            "left": null
          }
        },
        "433c75419f84408fa38b94476d8f4d0c": {
          "model_module": "@jupyter-widgets/controls",
          "model_name": "DescriptionStyleModel",
          "state": {
            "_view_name": "StyleView",
            "_model_name": "DescriptionStyleModel",
            "description_width": "",
            "_view_module": "@jupyter-widgets/base",
            "_model_module_version": "1.5.0",
            "_view_count": null,
            "_view_module_version": "1.2.0",
            "_model_module": "@jupyter-widgets/controls"
          }
        },
        "a0c624aef2d44749896ab7054ac8de0b": {
          "model_module": "@jupyter-widgets/base",
          "model_name": "LayoutModel",
          "state": {
            "_view_name": "LayoutView",
            "grid_template_rows": null,
            "right": null,
            "justify_content": null,
            "_view_module": "@jupyter-widgets/base",
            "overflow": null,
            "_model_module_version": "1.2.0",
            "_view_count": null,
            "flex_flow": null,
            "width": null,
            "min_width": null,
            "border": null,
            "align_items": null,
            "bottom": null,
            "_model_module": "@jupyter-widgets/base",
            "top": null,
            "grid_column": null,
            "overflow_y": null,
            "overflow_x": null,
            "grid_auto_flow": null,
            "grid_area": null,
            "grid_template_columns": null,
            "flex": null,
            "_model_name": "LayoutModel",
            "justify_items": null,
            "grid_row": null,
            "max_height": null,
            "align_content": null,
            "visibility": null,
            "align_self": null,
            "height": null,
            "min_height": null,
            "padding": null,
            "grid_auto_rows": null,
            "grid_gap": null,
            "max_width": null,
            "order": null,
            "_view_module_version": "1.2.0",
            "grid_template_areas": null,
            "object_position": null,
            "object_fit": null,
            "grid_auto_columns": null,
            "margin": null,
            "display": null,
            "left": null
          }
        }
      }
    }
  },
  "cells": [
    {
      "cell_type": "markdown",
      "metadata": {
        "id": "view-in-github",
        "colab_type": "text"
      },
      "source": [
        "<a href=\"https://colab.research.google.com/github/Gci04/AML-DS-2021/blob/main/notebooks/AML_Lab9.ipynb\" target=\"_parent\"><img src=\"https://colab.research.google.com/assets/colab-badge.svg\" alt=\"Open In Colab\"/></a>"
      ]
    },
    {
      "cell_type": "markdown",
      "metadata": {
        "id": "xPFnH1P5-N7t"
      },
      "source": [
        "### Week 9 : Generative Adversarial Networks\n",
        "```\n",
        "- Advanced Machine Learning, Innopolis University \n",
        "- Professor: Muhammad Fahim \n",
        "- Teaching Assistant: Gcinizwe Dlamini\n",
        "```\n",
        "<hr>\n",
        "\n",
        "\n",
        "```\n",
        "Lab Plan\n",
        "    1. Homework 1 Feedback\n",
        "    2. Recap Auto-encoder\n",
        "    3. Vanila GAN\n",
        "```\n",
        "\n",
        "<hr>"
      ]
    },
    {
      "cell_type": "markdown",
      "metadata": {
        "id": "6W3SupcX-N72"
      },
      "source": [
        "## 1. Autoencoders (Recap)\n",
        "\n",
        "* Types of autoencoders\n",
        "* Applications of autoencoders\n",
        "* Autoencoders training procedure"
      ]
    },
    {
      "cell_type": "markdown",
      "metadata": {
        "id": "sqnGm0_V-N73"
      },
      "source": [
        "\n",
        "![caption](https://miro.medium.com/max/2400/1*Q5dogodt3wzKKktE0v3dMQ@2x.png)"
      ]
    },
    {
      "cell_type": "markdown",
      "metadata": {
        "id": "InNc9zZh-N73"
      },
      "source": [
        "### 1.2 Simple autoencoder"
      ]
    },
    {
      "cell_type": "code",
      "metadata": {
        "id": "Obxq2168-N74"
      },
      "source": [
        "import torch\n",
        "import torch.nn as nn\n",
        "import torch.optim as optim\n",
        "from torchsummary import summary\n",
        "from torch.utils.data import TensorDataset, DataLoader\n",
        "\n",
        "\n",
        "device = torch.device(\"cuda:0\" if torch.cuda.is_available() else \"cpu\")\n",
        "\n",
        "class autoencoder(nn.Module):\n",
        "    def __init__(self, input_size, latent_dim):\n",
        "      super(autoencoder, self).__init__()\n",
        "      # Step 1 : Define the encoder \n",
        "      # Step 2 : Define the decoder\n",
        "      # Step 3 : Initialize the weights (optional)\n",
        "      self.encoder = nn.Sequential(\n",
        "          nn.Linear(input_size, input_size//2),\n",
        "          nn.ReLU(True),\n",
        "          nn.Linear(input_size//2, input_size//3),\n",
        "          nn.Linear(input_size//3, input_size//4),\n",
        "          nn.Tanh(),\n",
        "          nn.Linear(input_size//4, latent_dim)\n",
        "      )\n",
        "      self.decoder = nn.Sequential(\n",
        "          nn.Linear(latent_dim, input_size//4),\n",
        "          nn.ReLU(True),\n",
        "          nn.Linear(input_size//4, input_size//3),\n",
        "          nn.Linear(input_size//3, input_size//2),\n",
        "          nn.Tanh(),\n",
        "          nn.Linear(input_size//2, input_size)\n",
        "      )\n",
        "      self.encoder.apply(self.__init_weights)\n",
        "      self.decoder.apply(self.__init_weights)\n",
        "        \n",
        "    def forward(self, x):\n",
        "      # Step 1: Pass the input through encoder to get latent representation\n",
        "      # Step 2: Take latent representation and pass through decoder\n",
        "      x = self.encoder(x)\n",
        "      x = self.decoder(x)\n",
        "      return x\n",
        "        \n",
        "        \n",
        "    \n",
        "    def encode(self,input):\n",
        "      #Step 1: Pass the input through the encoder to get latent representation\n",
        "      return self.encoder(input)\n",
        "    \n",
        "    def __init_weights(self,m):\n",
        "      #Init the weights (optional)\n",
        "      if type(m) == nn.Linear:\n",
        "          torch.nn.init.xavier_uniform_(m.weight)\n",
        "          m.bias.data.fill_(0.01)"
      ],
      "execution_count": 1,
      "outputs": []
    },
    {
      "cell_type": "markdown",
      "metadata": {
        "id": "ShBnii_L-N75"
      },
      "source": [
        "### 1.3 Train autoencoder "
      ]
    },
    {
      "cell_type": "code",
      "metadata": {
        "id": "kzi449Ky-N75",
        "colab": {
          "base_uri": "https://localhost:8080/"
        },
        "outputId": "a6b331d6-f913-4809-8755-268edaa68bdd"
      },
      "source": [
        "# TODO:\n",
        "# Step 1: Set training parameters (batch size, learning rate, optimizer, number of epochs, loss function)\n",
        "# Step 2: Create dataset (Randomly generated)\n",
        "# Step 3: Create data loader \n",
        "# Step 4: Define the training loop\n",
        "\n",
        "batchSize = 100\n",
        "learning_rate = 0.01\n",
        "num_epochs = 20\n",
        "sample = torch.randn((batchSize,1,64))\n",
        "AE = autoencoder(64,5).to(device)\n",
        "print(AE)\n",
        "# print(summary(AE,input_size=(1, 64)))\n",
        "\n",
        "criterion = nn.MSELoss()\n",
        "optimizer = torch.optim.Adam(AE.parameters(),lr=learning_rate)\n",
        "\n",
        "#Create a random dataset\n",
        "data_loader = DataLoader(TensorDataset(torch.randn((1000,1,64))),batch_size=32,shuffle=True)\n",
        "\n",
        "for epoch in range(num_epochs):\n",
        "  epoch_loss = 0.0\n",
        "  for X in data_loader:\n",
        "    X = X[0].to(device)\n",
        "\n",
        "    optimizer.zero_grad()\n",
        "    # forward\n",
        "    output = AE(X)\n",
        "    loss = criterion(output, X)\n",
        "\n",
        "    # backward\n",
        "    loss.backward()\n",
        "    optimizer.step()\n",
        "\n",
        "    epoch_loss += loss.item()\n",
        "\n",
        "  # log\n",
        "  print('epoch [{}/{}], loss:{:.4f}'.format(epoch + 1, num_epochs, loss.item()))"
      ],
      "execution_count": 2,
      "outputs": [
        {
          "output_type": "stream",
          "text": [
            "autoencoder(\n",
            "  (encoder): Sequential(\n",
            "    (0): Linear(in_features=64, out_features=32, bias=True)\n",
            "    (1): ReLU(inplace=True)\n",
            "    (2): Linear(in_features=32, out_features=21, bias=True)\n",
            "    (3): Linear(in_features=21, out_features=16, bias=True)\n",
            "    (4): Tanh()\n",
            "    (5): Linear(in_features=16, out_features=5, bias=True)\n",
            "  )\n",
            "  (decoder): Sequential(\n",
            "    (0): Linear(in_features=5, out_features=16, bias=True)\n",
            "    (1): ReLU(inplace=True)\n",
            "    (2): Linear(in_features=16, out_features=21, bias=True)\n",
            "    (3): Linear(in_features=21, out_features=32, bias=True)\n",
            "    (4): Tanh()\n",
            "    (5): Linear(in_features=32, out_features=64, bias=True)\n",
            "  )\n",
            ")\n",
            "epoch [1/20], loss:0.9138\n",
            "epoch [2/20], loss:1.0399\n",
            "epoch [3/20], loss:0.9392\n",
            "epoch [4/20], loss:0.9187\n",
            "epoch [5/20], loss:0.8835\n",
            "epoch [6/20], loss:0.8861\n",
            "epoch [7/20], loss:0.8625\n",
            "epoch [8/20], loss:0.9260\n",
            "epoch [9/20], loss:0.9316\n",
            "epoch [10/20], loss:0.8976\n",
            "epoch [11/20], loss:0.8641\n",
            "epoch [12/20], loss:0.9122\n",
            "epoch [13/20], loss:0.8430\n",
            "epoch [14/20], loss:0.8253\n",
            "epoch [15/20], loss:0.8697\n",
            "epoch [16/20], loss:0.9436\n",
            "epoch [17/20], loss:0.8629\n",
            "epoch [18/20], loss:0.9075\n",
            "epoch [19/20], loss:0.8675\n",
            "epoch [20/20], loss:0.9054\n"
          ],
          "name": "stdout"
        }
      ]
    },
    {
      "cell_type": "markdown",
      "metadata": {
        "id": "eAxM77FL-N75"
      },
      "source": [
        "## 2. Vannila Generative adversarial network (GAN)\n",
        "\n",
        "![caption](https://www.researchgate.net/profile/Zhaoqing-Pan/publication/331756737/figure/fig1/AS:736526694621184@1552613056409/The-architecture-of-generative-adversarial-networks.png)"
      ]
    },
    {
      "cell_type": "markdown",
      "metadata": {
        "id": "Ft5ReSVw-N76"
      },
      "source": [
        "### 2.1 Dataset \n",
        "\n",
        "For this lesson we will use SVHN dataset which readily available in `torchvision` and we will do minimal transformation operations "
      ]
    },
    {
      "cell_type": "code",
      "metadata": {
        "id": "AgVjuBIo9YcY",
        "colab": {
          "base_uri": "https://localhost:8080/",
          "height": 102,
          "referenced_widgets": [
            "2fb613ac638348fbbb798bb9e5792f3e",
            "71243aee246e4a7aa731c4bebaa7e355",
            "24716e50aa15411d8575c0dcfa00c644",
            "4e29f8a8d07e475bbc12bc0d45306d75",
            "4fd19f85148d4800983a806c87473bd1",
            "a0aef78dbd7742e6a9de9dd15f75c539",
            "433c75419f84408fa38b94476d8f4d0c",
            "a0c624aef2d44749896ab7054ac8de0b"
          ]
        },
        "outputId": "dc6fa833-43a2-436b-a3ad-6aeb6ea8f39d"
      },
      "source": [
        "# import libraries\n",
        "import matplotlib.pyplot as plt\n",
        "import numpy as np\n",
        "\n",
        "import torch\n",
        "from torchvision import datasets\n",
        "from torchvision import transforms\n",
        "\n",
        "\n",
        "def normalize(data_tensor):\n",
        "    '''re-scale image values to [-1, 1]'''\n",
        "    return (data_tensor / 255.) * 2. - 1. \n",
        "\n",
        "transform = transforms.Compose([transforms.ToTensor(), transforms.Lambda(lambda x: normalize(x))])\n",
        "\n",
        "# SVHN training datasets\n",
        "svhn_train = datasets.SVHN(root='data/', split='train', download=True, transform=transform)\n",
        "\n",
        "batch_size = 128\n",
        "num_workers = 0\n",
        "\n",
        "# build DataLoaders for SVHN dataset\n",
        "train_loader = torch.utils.data.DataLoader(dataset=svhn_train,\n",
        "                                          batch_size=batch_size,\n",
        "                                          shuffle=True,\n",
        "                                          num_workers=num_workers)"
      ],
      "execution_count": 3,
      "outputs": [
        {
          "output_type": "stream",
          "text": [
            "Downloading http://ufldl.stanford.edu/housenumbers/train_32x32.mat to data/train_32x32.mat\n"
          ],
          "name": "stdout"
        },
        {
          "output_type": "display_data",
          "data": {
            "application/vnd.jupyter.widget-view+json": {
              "model_id": "2fb613ac638348fbbb798bb9e5792f3e",
              "version_minor": 0,
              "version_major": 2
            },
            "text/plain": [
              "HBox(children=(FloatProgress(value=0.0, max=182040794.0), HTML(value='')))"
            ]
          },
          "metadata": {
            "tags": []
          }
        },
        {
          "output_type": "stream",
          "text": [
            "\n"
          ],
          "name": "stdout"
        }
      ]
    },
    {
      "cell_type": "markdown",
      "metadata": {
        "id": "26pi-Afd-N77"
      },
      "source": [
        "## 2.2 Generator & Discriminator Definition\n",
        "\n",
        "There are a couple of ways to increase the input of the generator (*z*) to the desired output size.\n",
        "1. Number of neurones\n",
        "2. Transposed Convolutions `torch.nn.ConvTranspose2d` [More info](https://pytorch.org/docs/stable/generated/torch.nn.ConvTranspose2d.html)"
      ]
    },
    {
      "cell_type": "code",
      "metadata": {
        "id": "gYX2LNwv-N77"
      },
      "source": [
        "import torch.nn as nn\n",
        "import torch.nn.functional as F\n",
        "#ngf : Number of generator filters\n",
        "#ndf : Number of discriminator filters\n",
        "nz = 32\n",
        "class Discriminator(nn.Module):\n",
        "\n",
        "    def __init__(self, ndf=3, conv_dim=32):\n",
        "        super(Discriminator, self).__init__()\n",
        "        self.model = nn.Sequential(\n",
        "            nn.Conv2d(3, ndf, 4, 2, 1, bias=False),\n",
        "            nn.ReLU(True),\n",
        "            nn.Conv2d(ndf, ndf * 2, 4, 2, 1, bias=False),\n",
        "            nn.BatchNorm2d(ndf * 2),\n",
        "            nn.LeakyReLU(0.2, inplace=True),\n",
        "            nn.Conv2d(ndf * 2, 1, 4, 1, 0, bias=False),\n",
        "            nn.BatchNorm2d(1),\n",
        "            nn.Flatten(),\n",
        "            nn.Linear(5*5,1),\n",
        "            nn.Sigmoid()\n",
        "          )\n",
        "        \n",
        "\n",
        "    def forward(self, x):\n",
        "        # Step 1: pass the input (real or fake samples) through all hidden layers\n",
        "        return self.model(x)\n",
        "\n",
        "class Generator(nn.Module):\n",
        "    \n",
        "    def __init__(self, z_size, ngf, conv_dim=32):\n",
        "        super(Generator, self).__init__()\n",
        "        # Step 1: Define the generator network architecture\n",
        "        # NOTE: the input is the random noise size and output is conv_dim i.e (3,32,32)\n",
        "        self.conv_dim = conv_dim \n",
        "        self.input_layer = nn.Linear(in_features=z_size, out_features=2048, bias=True)\n",
        "        self.model = nn.Sequential(\n",
        "            nn.ConvTranspose2d(in_channels = 128, out_channels=ngf * 2, kernel_size=4,stride=2, padding=1, bias=False),\n",
        "            nn.BatchNorm2d(num_features= ngf * 2),\n",
        "            nn.Tanh(),\n",
        "            nn.ConvTranspose2d(ngf * 2, ngf, 4, 2, 1, bias=False),\n",
        "            nn.BatchNorm2d(num_features=ngf),\n",
        "            nn.Tanh(),\n",
        "            nn.ConvTranspose2d(ngf, 3, 4, 2, 1, bias=False),\n",
        "            nn.Tanh()\n",
        "        )\n",
        "        \n",
        "\n",
        "    def forward(self, x):\n",
        "      # Step 1: pass the input which is random noise to generate the face samples\n",
        "      x = self.input_layer(x)\n",
        "      x = x.view(-1, self.conv_dim*4, 4, 4) # (batch_size, depth, 4, 4)\n",
        "      return self.model(x)"
      ],
      "execution_count": 4,
      "outputs": []
    },
    {
      "cell_type": "markdown",
      "metadata": {
        "id": "BJSKjLl7-N78"
      },
      "source": [
        "## 2.3 Set hyperparams and training parameters"
      ]
    },
    {
      "cell_type": "code",
      "metadata": {
        "id": "4uxzt0AT-N78",
        "colab": {
          "base_uri": "https://localhost:8080/"
        },
        "outputId": "fd573000-c90b-4ccd-aa7d-5b1c458b746d"
      },
      "source": [
        "# define hyperparams\n",
        "conv_dim = 32\n",
        "z_size = 100\n",
        "num_epochs = 10\n",
        "\n",
        "# define discriminator and generator\n",
        "D = Discriminator(conv_dim).to(device)\n",
        "G = Generator(z_size=z_size, ngf=3,conv_dim=conv_dim).to(device)\n",
        "\n",
        "#print the models summary \n",
        "print(D)\n",
        "print()\n",
        "print(G)"
      ],
      "execution_count": 6,
      "outputs": [
        {
          "output_type": "stream",
          "text": [
            "Discriminator(\n",
            "  (model): Sequential(\n",
            "    (0): Conv2d(3, 32, kernel_size=(4, 4), stride=(2, 2), padding=(1, 1), bias=False)\n",
            "    (1): ReLU(inplace=True)\n",
            "    (2): Conv2d(32, 64, kernel_size=(4, 4), stride=(2, 2), padding=(1, 1), bias=False)\n",
            "    (3): BatchNorm2d(64, eps=1e-05, momentum=0.1, affine=True, track_running_stats=True)\n",
            "    (4): LeakyReLU(negative_slope=0.2, inplace=True)\n",
            "    (5): Conv2d(64, 1, kernel_size=(4, 4), stride=(1, 1), bias=False)\n",
            "    (6): BatchNorm2d(1, eps=1e-05, momentum=0.1, affine=True, track_running_stats=True)\n",
            "    (7): Flatten(start_dim=1, end_dim=-1)\n",
            "    (8): Linear(in_features=25, out_features=1, bias=True)\n",
            "    (9): Sigmoid()\n",
            "  )\n",
            ")\n",
            "\n",
            "Generator(\n",
            "  (input_layer): Linear(in_features=100, out_features=2048, bias=True)\n",
            "  (model): Sequential(\n",
            "    (0): ConvTranspose2d(128, 6, kernel_size=(4, 4), stride=(2, 2), padding=(1, 1), bias=False)\n",
            "    (1): BatchNorm2d(6, eps=1e-05, momentum=0.1, affine=True, track_running_stats=True)\n",
            "    (2): Tanh()\n",
            "    (3): ConvTranspose2d(6, 3, kernel_size=(4, 4), stride=(2, 2), padding=(1, 1), bias=False)\n",
            "    (4): BatchNorm2d(3, eps=1e-05, momentum=0.1, affine=True, track_running_stats=True)\n",
            "    (5): Tanh()\n",
            "    (6): ConvTranspose2d(3, 3, kernel_size=(4, 4), stride=(2, 2), padding=(1, 1), bias=False)\n",
            "    (7): Tanh()\n",
            "  )\n",
            ")\n"
          ],
          "name": "stdout"
        }
      ]
    },
    {
      "cell_type": "markdown",
      "metadata": {
        "id": "V-2PTRWR-N79"
      },
      "source": [
        "## 2.4 Define the loss function for D(x) and G(x)"
      ]
    },
    {
      "cell_type": "code",
      "metadata": {
        "id": "3NcyXwUB-N79"
      },
      "source": [
        "import torch.optim as optim\n",
        "\n",
        "def real_loss(D_out, smooth=False):\n",
        "    batch_size = D_out.size(0)\n",
        "    # label smoothing\n",
        "    if smooth:\n",
        "        # smooth, real labels\n",
        "        labels = torch.FloatTensor(batch_size).uniform_(0.9, 1).to(device)\n",
        "    else:\n",
        "        labels = torch.ones(batch_size).to(device) # real labels = 1     \n",
        "    \n",
        "    # binary cross entropy with logits loss\n",
        "    criterion = nn.BCEWithLogitsLoss()\n",
        "    # calculate loss\n",
        "    loss = criterion(D_out.squeeze(), labels)\n",
        "    return loss\n",
        "\n",
        "def fake_loss(D_out):\n",
        "    batch_size = D_out.size(0)\n",
        "    labels = torch.FloatTensor(batch_size).uniform_(0, 0.1).to(device) # fake labels approx 0\n",
        "    labels = labels.to(device)\n",
        "    criterion = nn.BCEWithLogitsLoss()\n",
        "    # calculate loss\n",
        "    loss = criterion(D_out.squeeze(), labels)\n",
        "    return loss\n",
        "\n",
        "# params\n",
        "learning_rate = 0.0003\n",
        "beta1=0.5\n",
        "beta2=0.999 # default value\n",
        "\n",
        "# Create optimizers for the discriminator and generator\n",
        "d_optimizer = optim.Adam(D.parameters(), learning_rate)\n",
        "g_optimizer = optim.SGD(G.parameters(), learning_rate)"
      ],
      "execution_count": 7,
      "outputs": []
    },
    {
      "cell_type": "markdown",
      "metadata": {
        "id": "lHMyxST8-N7-"
      },
      "source": [
        "## 2.5 GAN training Loop"
      ]
    },
    {
      "cell_type": "code",
      "metadata": {
        "id": "4wkVqKmu-N7_"
      },
      "source": [
        "\n",
        "# keep track of loss and generated, \"fake\" samples\n",
        "losses = []\n",
        "\n",
        "print_every = 300\n",
        "\n",
        "# Get some fixed data for sampling. These are images that are held\n",
        "# constant throughout training, and allow us to inspect the model's performance\n",
        "sample_size=16\n",
        "fixed_z = torch.FloatTensor(sample_size,z_size).uniform_(-1, 1).to(device)\n",
        "\n",
        "\n",
        "# train the network\n",
        "for epoch in range(num_epochs):\n",
        "  for batch_i, (real_images, _) in enumerate(train_loader):       \n",
        "    batch_size = real_images.size(0)\n",
        "    \n",
        "    \n",
        "    # TRAIN THE DISCRIMINATOR\n",
        "    # Step 1: Zero gradients (zero_grad)\n",
        "    # Step 2: Train with real images\n",
        "    # Step 3: Compute the discriminator losses on real images \n",
        "\n",
        "    d_optimizer.zero_grad()\n",
        "    real_images = real_images.to(device)\n",
        "    D_real = D(real_images)\n",
        "    d_real_loss = real_loss(D_real)\n",
        "    \n",
        "    # Step 4: Train with fake images\n",
        "    # Step 5: Generate fake images and move x to GPU, if available\n",
        "    # Step 6: Compute the discriminator losses on fake images \n",
        "    # Step 7: add up loss and perform backprop\n",
        "\n",
        "    z = torch.FloatTensor(batch_size,z_size).uniform_(-1, 1).to(device)\n",
        "    \n",
        "    fake_images = G(z)\n",
        "    \n",
        "    # Compute the discriminator losses on fake images            \n",
        "    D_fake = D(fake_images)\n",
        "    d_fake_loss = fake_loss(D_fake)\n",
        "    \n",
        "    # add up loss and perform backprop\n",
        "    d_loss = d_real_loss + d_fake_loss\n",
        "    d_loss.backward()\n",
        "    d_optimizer.step()\n",
        "    \n",
        "    # fake_images = None     \n",
        "    \n",
        "    # d_loss = d_real_loss + d_fake_loss\n",
        "    # d_loss.backward()\n",
        "    # d_optimizer.step()\n",
        "    \n",
        "    \n",
        "    #TRAIN THE GENERATOR (Train with fake images and flipped labels)\n",
        "    g_optimizer.zero_grad()\n",
        "    \n",
        "    # Step 1: Zero gradients  \n",
        "    # Step 2: Generate fake images from random noise (z)\n",
        "    # Step 3: Compute the discriminator losses on fake images using flipped labels!\n",
        "    # Step 4: Perform backprop and take optimizer step\n",
        "    \n",
        "    # Generate fake images\n",
        "    z = torch.FloatTensor(batch_size,z_size).uniform_(-1, 1).to(device)\n",
        "\n",
        "    \n",
        "    # Compute the discriminator losses on fake images \n",
        "    # using flipped labels!\n",
        "    \n",
        "    # perform backprop\n",
        "  "
      ],
      "execution_count": null,
      "outputs": []
    },
    {
      "cell_type": "markdown",
      "metadata": {
        "id": "aQsNSLUy-sbV"
      },
      "source": [
        "Keep in mind:\n",
        "\n",
        "1. Always use a learning rate for discriminator higher than the generator.\n",
        "\n",
        "2. Keep training even if you see that the losses are going up.\n",
        "\n",
        "3. There are many variations with different loss functions which are worth exploring.\n",
        "\n",
        "4. If you get mode collapse, lower the learning rates.\n",
        "\n",
        "5. Adding noise to the training data helps make the model more stable.\n",
        "\n",
        "6. Label Smoothing: instead of making the labels as 1 make it 0.9 \n"
      ]
    },
    {
      "cell_type": "markdown",
      "metadata": {
        "id": "_abUCWlX8geC"
      },
      "source": [
        "## References\n",
        "1. [Understanding Variational Autoencoders (VAEs)](https://towardsdatascience.com/understanding-variational-autoencoders-vaes-f70510919f73)\n",
        "\n",
        "2. [Intuitively Understanding Variational Autoencoders](https://towardsdatascience.com/intuitively-understanding-variational-autoencoders-1bfe67eb5daf)\n",
        "\n",
        "3. [Tutorial - What is a variational autoencoder?](https://jaan.io/what-is-variational-autoencoder-vae-tutorial/)\n",
        "\n",
        "4. [The variational auto-encoder](https://ermongroup.github.io/cs228-notes/extras/vae/)\n",
        "\n",
        "5. [An Introduction to Variational Autoencoders](https://arxiv.org/abs/1906.02691)\n",
        "\n",
        "6. [Basic VAE Example](https://github.com/pytorch/examples/tree/master/vae)\n",
        "\n",
        "7. [Deep Convolutional Generative Adversarial Network](https://www.tensorflow.org/tutorials/generative/dcgan)\n",
        "\n",
        "8. [Generative adversarial networks: What GANs are and how they’ve evolved](https://venturebeat.com/2019/12/26/gan-generative-adversarial-network-explainer-ai-machine-learning/)\n",
        "\n",
        "9. [Generative Adversarial Nets](https://papers.nips.cc/paper/5423-generative-adversarial-nets.pdf)\n",
        "\n",
        "10. [GANs by google](https://developers.google.com/machine-learning/gan)\n",
        "\n",
        "11. [A Gentle Introduction to Generative Adversarial Networks (GANs)](https://machinelearningmastery.com/what-are-generative-adversarial-networks-gans/)\n",
        "\n",
        "12. [A Beginner's Guide to Generative Adversarial Networks (GANs)](https://pathmind.com/wiki/generative-adversarial-network-gan)\n",
        "\n",
        "13. [Understanding Generative Adversarial Networks (GANs)](https://towardsdatascience.com/understanding-generative-adversarial-networks-gans-cd6e4651a29)\n",
        "\n",
        "14. [Deep Learning (PyTorch)](https://github.com/udacity/deep-learning-v2-pytorch)\n",
        "\n",
        "15. [10 Lessons I Learned Training GANs for one Year](https://towardsdatascience.com/10-lessons-i-learned-training-generative-adversarial-networks-gans-for-a-year-c9071159628)"
      ]
    }
  ]
}