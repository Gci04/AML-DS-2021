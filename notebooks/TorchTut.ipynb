{
  "nbformat": 4,
  "nbformat_minor": 0,
  "metadata": {
    "colab": {
      "name": "TorchTut1.ipynb",
      "provenance": []
    },
    "kernelspec": {
      "name": "python3",
      "display_name": "Python 3"
    },
    "language_info": {
      "name": "python"
    },
    "accelerator": "GPU"
  },
  "cells": [
    {
      "cell_type": "markdown",
      "metadata": {
        "id": "UccsLrIDSuJF"
      },
      "source": [
        "## <center>PyTorch Tutorial<center>"
      ]
    },
    {
      "cell_type": "code",
      "metadata": {
        "id": "4He13qC7StI6"
      },
      "source": [
        "import numpy as np\n",
        "from matplotlib import pyplot as plt \n",
        "np.random.seed(73)"
      ],
      "execution_count": null,
      "outputs": []
    },
    {
      "cell_type": "markdown",
      "metadata": {
        "id": "H3dO6a6ce0E3"
      },
      "source": [
        "## <center> Linear Regression with Numpy<center>"
      ]
    },
    {
      "cell_type": "markdown",
      "metadata": {
        "id": "cB1XeGRfWzwL"
      },
      "source": [
        "### Data Generation"
      ]
    },
    {
      "cell_type": "code",
      "metadata": {
        "id": "OVKWjKdxTnx-"
      },
      "source": [
        "# Data Generation\n",
        "def generate_data(size = 100):\n",
        "\n",
        "  x = np.random.rand(size, 1)\n",
        "  y = 3 + 2.5 * x + .1 * np.random.randn(size, 1)\n",
        "\n",
        "  # Shuffles the indices\n",
        "  idx = np.arange(size)\n",
        "  np.random.shuffle(idx)\n",
        "\n",
        "  # split to train and validation 80:20\n",
        "  split = int(size * 0.8)\n",
        "  train_idx = idx[:split]\n",
        "  val_idx = idx[split:]\n",
        "\n",
        "  # Generate train and validation sets\n",
        "  x_train, y_train = x[train_idx], y[train_idx]\n",
        "  x_val, y_val = x[val_idx], y[val_idx]\n",
        "\n",
        "  return x_train, y_train, x_val, y_val"
      ],
      "execution_count": null,
      "outputs": []
    },
    {
      "cell_type": "code",
      "metadata": {
        "colab": {
          "base_uri": "https://localhost:8080/",
          "height": 279
        },
        "id": "FN5dKNZGW6BA",
        "outputId": "9cb4901e-a7c6-4d92-a056-f99a40e3996f"
      },
      "source": [
        "x_train, y_train, x_val, y_val = generate_data()\n",
        "plt.scatter(x_train, y_train)\n",
        "plt.xlabel(\"X\")\n",
        "plt.ylabel(\"Y\")\n",
        "plt.show()"
      ],
      "execution_count": null,
      "outputs": [
        {
          "output_type": "display_data",
          "data": {
            "image/png": "[encoded data removed]",
            "text/plain": [
              "<Figure size 432x288 with 1 Axes>"
            ]
          },
          "metadata": {
            "tags": [],
            "needs_background": "light"
          }
        }
      ]
    },
    {
      "cell_type": "markdown",
      "metadata": {
        "id": "OTVz4pV6XjXm"
      },
      "source": [
        "## Gradient Descent\n",
        "\n",
        "Gradient descent consist of 3 basic steps : \n",
        "\n",
        "1. **Compute the Loss**\n",
        "\n",
        "$$ \\hat{y} = a + bx + \\epsilon $$\n",
        "\n",
        "$$ \\text{MSE} = \\frac{1}{N} \\sum_{i} (y_i - \\hat{y}_i)^2 $$\n",
        "\n",
        "$$ \\text{MSE} = \\frac{1}{N} \\sum_{i} (y_i - a - bx_i)^2 $$\n",
        "\n",
        "2. **Compute the Gradients** : A gradient is a partial derivative. Using the chain rule the final expression came to be : \n",
        "\n",
        "$$\\frac{\\partial \\text{MSE}}{\\partial a} = \\frac{\\partial \\text{MSE}}{\\partial \\hat{y}} * \\frac{\\partial \\hat{y}}{\\partial a} = -2 * \\frac{1}{N} \\sum_{i} (y_i - \\hat{y}_i)$$\n",
        "\n",
        "$$\\frac{\\partial \\text{MSE}}{\\partial b} = \\frac{\\partial \\text{MSE}}{\\partial \\hat{y}} * \\frac{\\partial \\hat{y}}{\\partial b} = -2 * \\frac{1}{N} \\sum_{i} x_i(y_i - \\hat{y}_i)$$\n",
        "\n",
        "3. **Update the Parameters**\n",
        "\n",
        "$$a = a - \\alpha \\frac{\\partial \\text{MSE}}{\\partial a}$$\n",
        "\n",
        "$$b = b - \\alpha \\frac{\\partial \\text{MSE}}{\\partial b}$$\n",
        "\n",
        "4. Repeat step 1 to 3 till convergence is reached"
      ]
    },
    {
      "cell_type": "code",
      "metadata": {
        "colab": {
          "base_uri": "https://localhost:8080/"
        },
        "id": "S2EX120SXSid",
        "outputId": "2b12c172-2109-4d16-9ec2-c8e4fba1182e"
      },
      "source": [
        "# Initializes parameters \"a\" and \"b\" randomly\n",
        "\n",
        "a = np.random.randn(1)\n",
        "b = np.random.randn(1)\n",
        "\n",
        "print(f\"Initial values of [a, b] : [{a[0]}, {b[0]}]\")\n",
        "\n",
        "learning_rate = 1e-1 #learning rate\n",
        "n_epochs = 1000\n",
        "\n",
        "for epoch in range(n_epochs):\n",
        "  \n",
        "  # Step 1: Computes y hat\n",
        "  yhat = a + b * x_train\n",
        "  \n",
        "  # Compute error and Loss using MSE \n",
        "  error = (y_train - yhat)\n",
        "  loss = (error ** 2).mean()\n",
        "  \n",
        "  # Step 2: Compute gradients for both \"a\" and \"b\" parameters (partial derivatives)\n",
        "  a_grad = -2 * error.mean()\n",
        "  b_grad = -2 * (x_train * error).mean()\n",
        "  \n",
        "  # Step 3: Update parameters using gradients and the learning rate\n",
        "  a = a - learning_rate * a_grad\n",
        "  b = b - learning_rate * b_grad\n",
        "    \n",
        "print(f\"Final values of [a, b] : [{a[0]}, {b[0]}]\")"
      ],
      "execution_count": null,
      "outputs": [
        {
          "output_type": "stream",
          "text": [
            "Initial values of [a, b] : [-1.389528167189103, 1.2528595392468875]\n",
            "Final values of [a, b] : [2.9818223574919154, 2.506904792435268]\n"
          ],
          "name": "stdout"
        }
      ]
    },
    {
      "cell_type": "markdown",
      "metadata": {
        "id": "SmQcACIPeueG"
      },
      "source": [
        "## <center> PyTorch Basics<center>"
      ]
    },
    {
      "cell_type": "markdown",
      "metadata": {
        "id": "nIBkMQyGB7O6"
      },
      "source": [
        "### Tensors \n",
        "\n",
        "* How to create a Tensor\n",
        "* Operations on tensors\n",
        "* Data types for Tensors"
      ]
    },
    {
      "cell_type": "markdown",
      "metadata": {
        "id": "c9BiWttzCLJs"
      },
      "source": [
        "### Create a Tensor \n",
        "\n",
        "1. Create tensors from Numpy then see what operations can be applied.\n",
        "**Note:** By default a tensor resides in cpu but can be sent to the GPU for fatser computations"
      ]
    },
    {
      "cell_type": "code",
      "metadata": {
        "colab": {
          "base_uri": "https://localhost:8080/"
        },
        "id": "vKdsfJNGc86F",
        "outputId": "7f754f1b-75aa-4de8-ba87-237ea3edcb13"
      },
      "source": [
        "import torch\n",
        "\n",
        "device = 'cuda' if torch.cuda.is_available() else 'cpu'\n"
      ],
      "execution_count": null,
      "outputs": [
        {
          "output_type": "stream",
          "text": [
            "<class 'numpy.ndarray'> <class 'torch.Tensor'> torch.cuda.FloatTensor\n"
          ],
          "name": "stdout"
        }
      ]
    },
    {
      "cell_type": "markdown",
      "metadata": {
        "id": "VxhYLd2dMd15"
      },
      "source": [
        "### Dynamic Computation Graph\n",
        "\n",
        "* Easily visualize a graph using `PyTorchViz` package. "
      ]
    },
    {
      "cell_type": "code",
      "metadata": {
        "id": "nUGg1luKNTGk"
      },
      "source": [
        "!pip install torchviz \n",
        "from torchviz import make_dot\n"
      ],
      "execution_count": null,
      "outputs": []
    },
    {
      "cell_type": "markdown",
      "metadata": {
        "id": "nImWn-F7Q72D"
      },
      "source": [
        "### Autograd & Optimizers"
      ]
    },
    {
      "cell_type": "code",
      "metadata": {
        "id": "2c2pYDGNRDaS"
      },
      "source": [
        ""
      ],
      "execution_count": null,
      "outputs": []
    },
    {
      "cell_type": "markdown",
      "metadata": {
        "id": "xYSyCi_9RI8D"
      },
      "source": [
        "### Model"
      ]
    },
    {
      "cell_type": "code",
      "metadata": {
        "id": "HWjqs5tLRPZw"
      },
      "source": [
        ""
      ],
      "execution_count": null,
      "outputs": []
    },
    {
      "cell_type": "markdown",
      "metadata": {
        "id": "9pwi1O6ORQRN"
      },
      "source": [
        "### Model Training "
      ]
    },
    {
      "cell_type": "code",
      "metadata": {
        "id": "VGcFMG-NRbZ8"
      },
      "source": [
        ""
      ],
      "execution_count": null,
      "outputs": []
    }
  ]
}