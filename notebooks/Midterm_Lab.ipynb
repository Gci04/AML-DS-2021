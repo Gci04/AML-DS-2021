{
  "nbformat": 4,
  "nbformat_minor": 5,
  "metadata": {
    "accelerator": "GPU",
    "colab": {
      "name": "Midterm Lab.ipynb",
      "provenance": []
    },
    "kernelspec": {
      "display_name": "Python 3",
      "language": "python",
      "name": "python3"
    },
    "language_info": {
      "codemirror_mode": {
        "name": "ipython",
        "version": 3
      },
      "file_extension": ".py",
      "mimetype": "text/x-python",
      "name": "python",
      "nbconvert_exporter": "python",
      "pygments_lexer": "ipython3",
      "version": "3.8.5"
    },
    "widgets": {
      "application/vnd.jupyter.widget-state+json": {
        "05daf560b9e149838b3f0faf3af4dddb": {
          "model_module": "@jupyter-widgets/controls",
          "model_name": "HBoxModel",
          "state": {
            "_view_name": "HBoxView",
            "_dom_classes": [],
            "_model_name": "HBoxModel",
            "_view_module": "@jupyter-widgets/controls",
            "_model_module_version": "1.5.0",
            "_view_count": null,
            "_view_module_version": "1.5.0",
            "box_style": "",
            "layout": "IPY_MODEL_15c52281f50541bbb357d632f2fcec37",
            "_model_module": "@jupyter-widgets/controls",
            "children": [
              "IPY_MODEL_63bf7d8c68684e6d98f2882b1cee78b3",
              "IPY_MODEL_2fb6f38972b04900a101fe6933e25289"
            ]
          }
        },
        "15c52281f50541bbb357d632f2fcec37": {
          "model_module": "@jupyter-widgets/base",
          "model_name": "LayoutModel",
          "state": {
            "_view_name": "LayoutView",
            "grid_template_rows": null,
            "right": null,
            "justify_content": null,
            "_view_module": "@jupyter-widgets/base",
            "overflow": null,
            "_model_module_version": "1.2.0",
            "_view_count": null,
            "flex_flow": null,
            "width": null,
            "min_width": null,
            "border": null,
            "align_items": null,
            "bottom": null,
            "_model_module": "@jupyter-widgets/base",
            "top": null,
            "grid_column": null,
            "overflow_y": null,
            "overflow_x": null,
            "grid_auto_flow": null,
            "grid_area": null,
            "grid_template_columns": null,
            "flex": null,
            "_model_name": "LayoutModel",
            "justify_items": null,
            "grid_row": null,
            "max_height": null,
            "align_content": null,
            "visibility": null,
            "align_self": null,
            "height": null,
            "min_height": null,
            "padding": null,
            "grid_auto_rows": null,
            "grid_gap": null,
            "max_width": null,
            "order": null,
            "_view_module_version": "1.2.0",
            "grid_template_areas": null,
            "object_position": null,
            "object_fit": null,
            "grid_auto_columns": null,
            "margin": null,
            "display": null,
            "left": null
          }
        },
        "63bf7d8c68684e6d98f2882b1cee78b3": {
          "model_module": "@jupyter-widgets/controls",
          "model_name": "FloatProgressModel",
          "state": {
            "_view_name": "ProgressView",
            "style": "IPY_MODEL_3c2e28e569e4422c8f0d2470c200191f",
            "_dom_classes": [],
            "description": "100%",
            "_model_name": "FloatProgressModel",
            "bar_style": "success",
            "max": 46827520,
            "_view_module": "@jupyter-widgets/controls",
            "_model_module_version": "1.5.0",
            "value": 46827520,
            "_view_count": null,
            "_view_module_version": "1.5.0",
            "orientation": "horizontal",
            "min": 0,
            "description_tooltip": null,
            "_model_module": "@jupyter-widgets/controls",
            "layout": "IPY_MODEL_67a8016aa15946898e3c09dedbddaba7"
          }
        },
        "2fb6f38972b04900a101fe6933e25289": {
          "model_module": "@jupyter-widgets/controls",
          "model_name": "HTMLModel",
          "state": {
            "_view_name": "HTMLView",
            "style": "IPY_MODEL_6b4bdd79343541109229270fe3051694",
            "_dom_classes": [],
            "description": "",
            "_model_name": "HTMLModel",
            "placeholder": "​",
            "_view_module": "@jupyter-widgets/controls",
            "_model_module_version": "1.5.0",
            "value": " 44.7M/44.7M [00:00&lt;00:00, 113MB/s]",
            "_view_count": null,
            "_view_module_version": "1.5.0",
            "description_tooltip": null,
            "_model_module": "@jupyter-widgets/controls",
            "layout": "IPY_MODEL_83b13c4f71f244e4a3c6512b4e163adb"
          }
        },
        "3c2e28e569e4422c8f0d2470c200191f": {
          "model_module": "@jupyter-widgets/controls",
          "model_name": "ProgressStyleModel",
          "state": {
            "_view_name": "StyleView",
            "_model_name": "ProgressStyleModel",
            "description_width": "initial",
            "_view_module": "@jupyter-widgets/base",
            "_model_module_version": "1.5.0",
            "_view_count": null,
            "_view_module_version": "1.2.0",
            "bar_color": null,
            "_model_module": "@jupyter-widgets/controls"
          }
        },
        "67a8016aa15946898e3c09dedbddaba7": {
          "model_module": "@jupyter-widgets/base",
          "model_name": "LayoutModel",
          "state": {
            "_view_name": "LayoutView",
            "grid_template_rows": null,
            "right": null,
            "justify_content": null,
            "_view_module": "@jupyter-widgets/base",
            "overflow": null,
            "_model_module_version": "1.2.0",
            "_view_count": null,
            "flex_flow": null,
            "width": null,
            "min_width": null,
            "border": null,
            "align_items": null,
            "bottom": null,
            "_model_module": "@jupyter-widgets/base",
            "top": null,
            "grid_column": null,
            "overflow_y": null,
            "overflow_x": null,
            "grid_auto_flow": null,
            "grid_area": null,
            "grid_template_columns": null,
            "flex": null,
            "_model_name": "LayoutModel",
            "justify_items": null,
            "grid_row": null,
            "max_height": null,
            "align_content": null,
            "visibility": null,
            "align_self": null,
            "height": null,
            "min_height": null,
            "padding": null,
            "grid_auto_rows": null,
            "grid_gap": null,
            "max_width": null,
            "order": null,
            "_view_module_version": "1.2.0",
            "grid_template_areas": null,
            "object_position": null,
            "object_fit": null,
            "grid_auto_columns": null,
            "margin": null,
            "display": null,
            "left": null
          }
        },
        "6b4bdd79343541109229270fe3051694": {
          "model_module": "@jupyter-widgets/controls",
          "model_name": "DescriptionStyleModel",
          "state": {
            "_view_name": "StyleView",
            "_model_name": "DescriptionStyleModel",
            "description_width": "",
            "_view_module": "@jupyter-widgets/base",
            "_model_module_version": "1.5.0",
            "_view_count": null,
            "_view_module_version": "1.2.0",
            "_model_module": "@jupyter-widgets/controls"
          }
        },
        "83b13c4f71f244e4a3c6512b4e163adb": {
          "model_module": "@jupyter-widgets/base",
          "model_name": "LayoutModel",
          "state": {
            "_view_name": "LayoutView",
            "grid_template_rows": null,
            "right": null,
            "justify_content": null,
            "_view_module": "@jupyter-widgets/base",
            "overflow": null,
            "_model_module_version": "1.2.0",
            "_view_count": null,
            "flex_flow": null,
            "width": null,
            "min_width": null,
            "border": null,
            "align_items": null,
            "bottom": null,
            "_model_module": "@jupyter-widgets/base",
            "top": null,
            "grid_column": null,
            "overflow_y": null,
            "overflow_x": null,
            "grid_auto_flow": null,
            "grid_area": null,
            "grid_template_columns": null,
            "flex": null,
            "_model_name": "LayoutModel",
            "justify_items": null,
            "grid_row": null,
            "max_height": null,
            "align_content": null,
            "visibility": null,
            "align_self": null,
            "height": null,
            "min_height": null,
            "padding": null,
            "grid_auto_rows": null,
            "grid_gap": null,
            "max_width": null,
            "order": null,
            "_view_module_version": "1.2.0",
            "grid_template_areas": null,
            "object_position": null,
            "object_fit": null,
            "grid_auto_columns": null,
            "margin": null,
            "display": null,
            "left": null
          }
        }
      }
    }
  },
  "cells": [
    {
      "cell_type": "markdown",
      "metadata": {
        "id": "horizontal-cylinder"
      },
      "source": [
        "## <center>Midterm Lab\n",
        "```\n",
        "- Advanced Machine Learning, Innopolis University \n",
        "- Professor: Muhammad Fahim \n",
        "- Teaching Assistant: Gcinizwe Dlamini\n",
        "```\n",
        "<hr>\n",
        "\n",
        "```\n",
        "Tasks:\n",
        "  1. Image Transform (5 points)\n",
        "  2. CNN model declaration (10 points)\n",
        "  3. CNN model training (5 points)\n",
        "  4. Transfer Learning or Viterbi algorithm : Bonus (5 points)\n",
        "```\n",
        "\n",
        "<hr>"
      ],
      "id": "horizontal-cylinder"
    },
    {
      "cell_type": "markdown",
      "metadata": {
        "id": "changed-demonstration"
      },
      "source": [
        "## The Dataset"
      ],
      "id": "changed-demonstration"
    },
    {
      "cell_type": "code",
      "metadata": {
        "id": "vietnamese-phase"
      },
      "source": [
        "import torch\n",
        "import torchvision\n",
        "import torchvision.transforms as transforms\n",
        "import torch.optim as optim\n",
        "\n",
        "import numpy as np\n",
        "\n",
        "device = torch.device(\"cuda:0\" if torch.cuda.is_available() else \"cpu\")"
      ],
      "id": "vietnamese-phase",
      "execution_count": 1,
      "outputs": []
    },
    {
      "cell_type": "markdown",
      "metadata": {
        "id": "pediatric-funeral"
      },
      "source": [
        "## Task 1 : Preprocessing of Dataset (5 points)\n",
        "\n",
        "1.   Create the transforms:\n",
        "    * Resize images to (32 * 32)\n",
        "    * Normalize every channel (mean and std of your choice)\n",
        "    * Apply one more data augmentation technique you know (i.e Rotation, translation, RandomErasing, RandomHorizontalFlip etc.)\n",
        "\n",
        "\n",
        "**Hint**: data augmentation techniques shouldn't be applied to the test dataset."
      ],
      "id": "pediatric-funeral"
    },
    {
      "cell_type": "code",
      "metadata": {
        "colab": {
          "base_uri": "https://localhost:8080/"
        },
        "id": "cardiac-acrobat",
        "outputId": "ad402e6d-4b49-4c57-cbc6-ba196753e278"
      },
      "source": [
        "transform_train = transforms.Compose(\n",
        "    [\n",
        "        transforms.ToTensor(),\n",
        "        transforms.Resize((32, 32),),\n",
        "        transforms.RandomErasing(), # Added some augmentation\n",
        "        transforms.ColorJitter(\n",
        "            brightness=63.0 / 255.0, saturation=[0.5, 1.5], contrast=[0.2, 1.8]\n",
        "        ),\n",
        "        transforms.Normalize(\n",
        "            (0.4376821, 0.4437697, 0.47280442), (0.19803012, 0.20101562, 0.19703614),\n",
        "        ),\n",
        "    ]\n",
        ")\n",
        "\n",
        "transform_test = None \n",
        "\n",
        "trainset = torchvision.datasets.SVHN(root='./data/train', split=\"train\", download=True, transform=transform_train)\n",
        "trainloader = torch.utils.data.DataLoader(trainset, batch_size=64, shuffle=True, num_workers=1)\n",
        "\n",
        "testset = torchvision.datasets.SVHN(root='./data/test', split=\"test\", download=True, transform=transform_test)\n",
        "testloader = torch.utils.data.DataLoader(testset, batch_size=64, shuffle=False, num_workers=1)\n",
        "\n",
        "classes = [f\"{i}\" for i in np.unique(trainset.labels)]"
      ],
      "id": "cardiac-acrobat",
      "execution_count": 57,
      "outputs": [
        {
          "output_type": "stream",
          "text": [
            "Using downloaded and verified file: ./data/train/train_32x32.mat\n",
            "Using downloaded and verified file: ./data/test/test_32x32.mat\n"
          ],
          "name": "stdout"
        }
      ]
    },
    {
      "cell_type": "markdown",
      "metadata": {
        "id": "architectural-performance"
      },
      "source": [
        "## Task 1.1 Plot Classes distribution \n",
        "\n",
        "Plot the distribution of classes in the training sample on a bar graph"
      ],
      "id": "architectural-performance"
    },
    {
      "cell_type": "code",
      "metadata": {
        "colab": {
          "base_uri": "https://localhost:8080/",
          "height": 333
        },
        "id": "ancient-fourth",
        "outputId": "07412703-ec63-4aea-cdb5-d8a9d0533849"
      },
      "source": [
        "from matplotlib import pyplot as plt\n",
        "from collections import Counter\n",
        "#TODO: Plot the distribution of classes\n",
        "plt.hist(trainset.labels)"
      ],
      "id": "ancient-fourth",
      "execution_count": 58,
      "outputs": [
        {
          "output_type": "execute_result",
          "data": {
            "text/plain": [
              "(array([ 4948., 13861., 10585.,  8497.,  7458.,  6882.,  5727.,  5595.,\n",
              "         5045.,  4659.]),\n",
              " array([0. , 0.9, 1.8, 2.7, 3.6, 4.5, 5.4, 6.3, 7.2, 8.1, 9. ]),\n",
              " <a list of 10 Patch objects>)"
            ]
          },
          "metadata": {
            "tags": []
          },
          "execution_count": 58
        },
        {
          "output_type": "display_data",
          "data": {
            "image/png": "[encoded data removed]",
            "text/plain": [
              "<Figure size 432x288 with 1 Axes>"
            ]
          },
          "metadata": {
            "tags": [],
            "needs_background": "light"
          }
        }
      ]
    },
    {
      "cell_type": "code",
      "metadata": {
        "colab": {
          "base_uri": "https://localhost:8080/",
          "height": 286
        },
        "id": "split-chicken",
        "outputId": "89691c30-e998-47f7-d12f-62f881c668fc"
      },
      "source": [
        "def to_img(x):\n",
        "    x = 0.5 * (x + 1)\n",
        "    x = x.clamp(0, 1)\n",
        "    x = x.view(x.size(0), 3, 32, 32)\n",
        "    return x\n",
        "\n",
        "# functions to show an image\n",
        "def imshow(img):\n",
        "    img = img / 2 + 0.5 # unnormalize\n",
        "    npimg = img.numpy()\n",
        "    plt.imshow(np.transpose(npimg, (1, 2, 0)))\n",
        "\n",
        "# sample a batch and show \n",
        "dataiter = iter(trainloader)\n",
        "images, labels = dataiter.next()\n",
        "\n",
        "imshow(torchvision.utils.make_grid(images))"
      ],
      "id": "split-chicken",
      "execution_count": 59,
      "outputs": [
        {
          "output_type": "stream",
          "text": [
            "Clipping input data to the valid range for imshow with RGB data ([0..1] for floats or [0..255] for integers).\n"
          ],
          "name": "stderr"
        },
        {
          "output_type": "display_data",
          "data": {
            "image/png": "[encoded data removed]",
            "text/plain": [
              "<Figure size 432x288 with 1 Axes>"
            ]
          },
          "metadata": {
            "tags": [],
            "needs_background": "light"
          }
        }
      ]
    },
    {
      "cell_type": "markdown",
      "metadata": {
        "id": "graphic-humor"
      },
      "source": [
        "import torch.nn as nn## Task 2 : Build a classisfication convolutional neural network\n",
        "\n",
        "\n",
        "The Model should should have the following achitecture : \n",
        "1. 3 Convolution layers : (5 points)\n",
        "    * conv1 : 2 kernels, 3*3 kernel size, stride 1.\n",
        "    * conv2 : 4 kernels, 5*5 kernel size, stride 2.\n",
        "    * conv3 : 8 kernels, 3*3 kernel size, stride 1.\n",
        "    * Add 1 Avarage pooling layer after 2nd layer and 1 Max-pooling layer before the fully connected layers.\n",
        "    * Stride for all pooling operations set to 1 \n",
        "    \n",
        "    \n",
        "2. Fully connected layers : \n",
        "    * fc1 : 64 output-neurons with a relu activation.\n",
        "    * output_layer : final layer with no activation function\n",
        "    * Add Dropout layer after the first (fc1) layer with 25% dropout probability\n",
        "\n",
        "3. Implement the foward pass method for the CNN  (5 points)\n",
        "    * Add an activation function of your own choice after every layer\n",
        "    "
      ],
      "id": "graphic-humor"
    },
    {
      "cell_type": "code",
      "metadata": {
        "id": "committed-restaurant"
      },
      "source": [
        "import torch.nn as nn\n",
        "\n",
        "class Net(nn.Module):\n",
        "    def __init__(self, output_num):\n",
        "        super(Net, self).__init__()\n",
        "        #TODO: Declare the model layers\n",
        "        self.conv1 = nn.Conv2d(3, 2, kernel_size=3, stride=1)\n",
        "        self.conv2 = nn.Conv2d(2, 4, kernel_size=5, stride=2)\n",
        "        self.conv3 = nn.Conv2d(4, 8, kernel_size=3, stride=1)\n",
        "        self.fc1 = nn.Linear(648, 64)\n",
        "        self.fc2 = nn.Linear(64, output_num)\n",
        "        self.maxpool = nn.MaxPool2d(2, stride=1)\n",
        "        self.averagepool = nn.AvgPool2d(2, stride=1)\n",
        "        self.flatten = nn.Flatten()\n",
        "\n",
        "    def forward(self, x):\n",
        "        # TODO: Implement the forward pass\n",
        "        x = self.conv1(x)\n",
        "        x = self.conv2(x)\n",
        "        x = self.averagepool(x)\n",
        "        x = self.conv3(x)\n",
        "        x = self.maxpool(x)\n",
        "        x = self.flatten(x)\n",
        "        x = nn.ReLU()(self.fc1(x))\n",
        "        x = self.fc2(x)\n",
        "        return x"
      ],
      "id": "committed-restaurant",
      "execution_count": 145,
      "outputs": []
    },
    {
      "cell_type": "markdown",
      "metadata": {
        "id": "computational-occupation"
      },
      "source": [
        "## Task 3 : Convolutional neural network training precedure (5 points)\n",
        "\n",
        "Implement the model training procedure and select the appropriate loss function"
      ],
      "id": "computational-occupation"
    },
    {
      "cell_type": "code",
      "metadata": {
        "id": "headed-disposition"
      },
      "source": [
        "# Model accuracy calculator \n",
        "def accuracy_calc(net,testloader,device):\n",
        "    correct = 0\n",
        "    total = 0\n",
        "    with torch.no_grad():\n",
        "        for data in testloader:\n",
        "            images, labels = data\n",
        "            images, labels = images.to(device), labels.to(device)\n",
        "            outputs = net(images)\n",
        "            _, predicted = torch.max(outputs.data, 1)\n",
        "            predicted = torch.ceil(torch.nn.Sigmoid()(predicted))\n",
        "            total += labels.size(0)\n",
        "            correct += (predicted == labels).sum().item()\n",
        "    \n",
        "    return correct / total"
      ],
      "id": "headed-disposition",
      "execution_count": 152,
      "outputs": []
    },
    {
      "cell_type": "code",
      "metadata": {
        "colab": {
          "base_uri": "https://localhost:8080/"
        },
        "id": "acquired-radio",
        "outputId": "3dd5d2ea-527d-4dd0-b4c8-c33ef775b9c8"
      },
      "source": [
        "model = Net(len(classes)).to(device)\n",
        "model"
      ],
      "id": "acquired-radio",
      "execution_count": 153,
      "outputs": [
        {
          "output_type": "execute_result",
          "data": {
            "text/plain": [
              "Net(\n",
              "  (conv1): Conv2d(3, 2, kernel_size=(3, 3), stride=(1, 1))\n",
              "  (conv2): Conv2d(2, 4, kernel_size=(5, 5), stride=(2, 2))\n",
              "  (conv3): Conv2d(4, 8, kernel_size=(3, 3), stride=(1, 1))\n",
              "  (fc1): Linear(in_features=648, out_features=64, bias=True)\n",
              "  (fc2): Linear(in_features=64, out_features=10, bias=True)\n",
              "  (maxpool): MaxPool2d(kernel_size=2, stride=1, padding=0, dilation=1, ceil_mode=False)\n",
              "  (averagepool): AvgPool2d(kernel_size=2, stride=1, padding=0)\n",
              "  (flatten): Flatten(start_dim=1, end_dim=-1)\n",
              ")"
            ]
          },
          "metadata": {
            "tags": []
          },
          "execution_count": 153
        }
      ]
    },
    {
      "cell_type": "code",
      "metadata": {
        "id": "designed-typing"
      },
      "source": [
        "#Set hyper parameters \n",
        "nb_epoch = 3\n",
        "lr = 0.001\n",
        "\n",
        "optimizer = optim.SGD(model.parameters(), lr=lr, momentum=0.9)\n",
        "criterion = nn.CrossEntropyLoss() #TODO: Define the Loss function (criterion)\n",
        "\n",
        "def train(model,trainloader,optimizer, criterion, device):\n",
        "    #TODO : Implement the training procedure of the model at each an every epoch. It should return model loss and accuracy on training sample\n",
        "    epoch_loss = 0\n",
        "    epoch_acc = 0\n",
        "    \n",
        "    model.train()\n",
        "    \n",
        "    for batch in trainloader:\n",
        "\n",
        "      inputs, labels = batch\n",
        "      inputs = inputs.to(device)\n",
        "      labels = labels.to(device)\n",
        "\n",
        "      optimizer.zero_grad()\n",
        "      predictions = model(inputs)\n",
        "      loss = criterion(predictions, labels)\n",
        "\n",
        "      acc = accuracy_calc(model, trainloader, device)\n",
        "      \n",
        "      loss.backward()\n",
        "      optimizer.step()\n",
        "      \n",
        "      epoch_loss += loss.item()\n",
        "      epoch_acc += acc\n",
        "      \n",
        "      return epoch_loss , epoch_acc "
      ],
      "id": "designed-typing",
      "execution_count": 154,
      "outputs": []
    },
    {
      "cell_type": "code",
      "metadata": {
        "colab": {
          "base_uri": "https://localhost:8080/"
        },
        "id": "confident-purple",
        "outputId": "70cefb92-6178-4711-c6d4-ff2a2714eafe"
      },
      "source": [
        "for epoch in range(nb_epoch):\n",
        "    epochLoss, epochAcc = train(model,trainloader, optimizer, criterion, device)\n",
        "    print(f\"Epoch : {epoch}, Loss {epochLoss}, Accuracy {epochAcc}\")"
      ],
      "id": "confident-purple",
      "execution_count": 155,
      "outputs": [
        {
          "output_type": "stream",
          "text": [
            "Epoch : 0, Loss 2.2978992462158203, Accuracy 0.18921058738414076\n",
            "Epoch : 1, Loss 2.303147792816162, Accuracy 0.18921058738414076\n",
            "Epoch : 2, Loss 2.3045310974121094, Accuracy 0.18921058738414076\n"
          ],
          "name": "stdout"
        }
      ]
    },
    {
      "cell_type": "markdown",
      "metadata": {
        "id": "recreational-dodge"
      },
      "source": [
        "## Task 4 (bonus) : Use pretrained CNN model or Viterbi implementation (5 points)\n",
        "\n",
        "**Option 1** : Import any pretrained model and train on CIFAR10. Print out the loss and accuracy at each an every epoch. Number of training epochs and optimizer are of your choice. <br>\n",
        "**OPtion 2** : Implement the viterbi algorithm (from previous lab task POS tagging) "
      ],
      "id": "recreational-dodge"
    },
    {
      "cell_type": "code",
      "metadata": {
        "id": "G-kgx5zadY_e",
        "outputId": "1b11faea-32f1-4156-b69f-7128625819b1",
        "colab": {
          "base_uri": "https://localhost:8080/",
          "height": 83,
          "referenced_widgets": [
            "05daf560b9e149838b3f0faf3af4dddb",
            "15c52281f50541bbb357d632f2fcec37",
            "63bf7d8c68684e6d98f2882b1cee78b3",
            "2fb6f38972b04900a101fe6933e25289",
            "3c2e28e569e4422c8f0d2470c200191f",
            "67a8016aa15946898e3c09dedbddaba7",
            "6b4bdd79343541109229270fe3051694",
            "83b13c4f71f244e4a3c6512b4e163adb"
          ]
        }
      },
      "source": [
        "import torchvision.models as models\n",
        "resnet18 = models.resnet18(pretrained=True, progress=True)"
      ],
      "id": "G-kgx5zadY_e",
      "execution_count": 156,
      "outputs": [
        {
          "output_type": "stream",
          "text": [
            "Downloading: \"https://download.pytorch.org/models/resnet18-5c106cde.pth\" to /root/.cache/torch/hub/checkpoints/resnet18-5c106cde.pth\n"
          ],
          "name": "stderr"
        },
        {
          "output_type": "display_data",
          "data": {
            "application/vnd.jupyter.widget-view+json": {
              "model_id": "05daf560b9e149838b3f0faf3af4dddb",
              "version_minor": 0,
              "version_major": 2
            },
            "text/plain": [
              "HBox(children=(FloatProgress(value=0.0, max=46827520.0), HTML(value='')))"
            ]
          },
          "metadata": {
            "tags": []
          }
        },
        {
          "output_type": "stream",
          "text": [
            "\n"
          ],
          "name": "stdout"
        }
      ]
    },
    {
      "cell_type": "code",
      "metadata": {
        "id": "pTuRjYmycoDX"
      },
      "source": [
        "import torchvision.models as models\n",
        "\n",
        "transform = transforms.Compose(\n",
        "    [transforms.Resize((256,256)),\n",
        "     transforms.ToTensor(),\n",
        "     transforms.Normalize((0.5, 0.5, 0.5), (0.5, 0.5, 0.5))])\n",
        "\n",
        "trainset = torchvision.datasets.CIFAR10(root='./data', train=True,\n",
        "                                        download=True, transform=transform)\n",
        "trainloader = torch.utils.data.DataLoader(trainset, batch_size=64,\n",
        "                                          shuffle=True, num_workers=2)\n",
        "\n",
        "testset = torchvision.datasets.CIFAR10(root='./data', train=False,\n",
        "                                       download=True, transform=transform)\n",
        "testloader = torch.utils.data.DataLoader(testset, batch_size=64,\n",
        "                                         shuffle=False, num_workers=2)\n",
        "\n",
        "classes = ('plane', 'car', 'bird', 'cat',\n",
        "           'deer', 'dog', 'frog', 'horse', 'ship', 'truck')"
      ],
      "id": "pTuRjYmycoDX",
      "execution_count": null,
      "outputs": []
    },
    {
      "cell_type": "code",
      "metadata": {
        "id": "innovative-statement"
      },
      "source": [
        "import torch.nn as nn\n",
        "import torch.nn.functional as F\n",
        "\n",
        "\n",
        "class Net(nn.Module):\n",
        "    def __init__(self):\n",
        "        super(Net, self).__init__()\n",
        "        self.net = models.resnet18(pretrained=True,progress=True)\n",
        "        self.net.trainable = False\n",
        "        self.net.fc = nn.Linear(512, 10)\n",
        "\n",
        "    def forward(self, x):\n",
        "        return self.net(x)\n",
        "\n",
        "\n",
        "net = Net()\n",
        "net = net.to(device)"
      ],
      "id": "innovative-statement",
      "execution_count": null,
      "outputs": []
    },
    {
      "cell_type": "code",
      "metadata": {
        "id": "X_sf7XDwe4Lp"
      },
      "source": [
        "for epoch in range(1):\n",
        "    epochLoss, epochAcc = train(net, trainloader, optimizer, criterion, device)\n",
        "    print(f\"Epoch : {epoch}, Loss {epochLoss}, Accuracy {epochAcc}\")"
      ],
      "id": "X_sf7XDwe4Lp",
      "execution_count": null,
      "outputs": []
    }
  ]
}